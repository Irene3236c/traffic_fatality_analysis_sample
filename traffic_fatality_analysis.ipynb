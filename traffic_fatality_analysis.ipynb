{
  "nbformat": 4,
  "nbformat_minor": 0,
  "metadata": {
    "colab": {
      "provenance": [],
      "toc_visible": true
    },
    "kernelspec": {
      "name": "python3",
      "display_name": "Python 3"
    }
  },
  "cells": [
    {
      "cell_type": "code",
      "metadata": {
        "id": "MEXb7hXAOY7t",
        "outputId": "248b266a-c4d5-42b3-f7b8-d6c63197cd83",
        "colab": {
          "base_uri": "https://localhost:8080/",
          "height": 17
        }
      },
      "source": [
        "import numpy as np\n",
        "from sklearn import preprocessing\n",
        "import pandas as pd\n",
        "import plotly.offline as py\n",
        "py.init_notebook_mode(connected=True)\n",
        "import seaborn as sns\n",
        "from scipy.stats import randint as sp_randint\n",
        "from sklearn.metrics import roc_curve, auc\n",
        "from sklearn.model_selection import train_test_split\n",
        "from sklearn.ensemble import RandomForestClassifier\n",
        "from sklearn.linear_model import LogisticRegression\n",
        "from sklearn.metrics import (accuracy_score,classification_report)\n",
        "from imblearn.over_sampling import SMOTE\n",
        "import warnings;warnings.filterwarnings('ignore')\n",
        "import tensorflow as tf\n",
        "from sklearn.metrics import confusion_matrix\n",
        "from matplotlib import pyplot as plt\n",
        "from sklearn.metrics import plot_confusion_matrix\n",
        "from sklearn.tree import DecisionTreeClassifier\n",
        "from sklearn.tree import plot_tree\n",
        "from sklearn.model_selection import cross_val_score\n",
        "from keras.models import Sequential\n",
        "from keras.layers import Dense, Dropout\n",
        "import scipy.cluster.hierarchy as sch\n",
        "from sklearn.cluster import AgglomerativeClustering\n",
        "from sklearn.linear_model import LogisticRegression as LR\n",
        "from sklearn.model_selection import RandomizedSearchCV, GridSearchCV\n",
        "from xgboost import XGBClassifier\n",
        "import statsmodels.api as sm\n",
        "import plotly.graph_objs as go\n",
        "import plotly.offline as py\n",
        "from imblearn.under_sampling import RandomUnderSampler\n",
        "from imblearn.under_sampling import EditedNearestNeighbours\n",
        "from imblearn.under_sampling import NearMiss"
      ],
      "execution_count": null,
      "outputs": [
        {
          "output_type": "display_data",
          "data": {
            "text/html": [
              "        <script type=\"text/javascript\">\n",
              "        window.PlotlyConfig = {MathJaxConfig: 'local'};\n",
              "        if (window.MathJax) {MathJax.Hub.Config({SVG: {font: \"STIX-Web\"}});}\n",
              "        if (typeof require !== 'undefined') {\n",
              "        require.undef(\"plotly\");\n",
              "        requirejs.config({\n",
              "            paths: {\n",
              "                'plotly': ['https://cdn.plot.ly/plotly-latest.min']\n",
              "            }\n",
              "        });\n",
              "        require(['plotly'], function(Plotly) {\n",
              "            window._Plotly = Plotly;\n",
              "        });\n",
              "        }\n",
              "        </script>\n",
              "        "
            ]
          },
          "metadata": {
            "tags": []
          }
        }
      ]
    },
    {
      "cell_type": "code",
      "metadata": {
        "id": "v8h7dTmIPRBW"
      },
      "source": [
        "def draw_from_dict(dicdata,RANGE, heng=0):\n",
        "    by_value = sorted(dicdata.items(),key = lambda item:item[1],reverse=True)\n",
        "    x = []\n",
        "    y = []\n",
        "    for d in by_value:\n",
        "        x.append(d[0])\n",
        "        y.append(d[1])\n",
        "    if heng == 0:\n",
        "        plt.bar(x[0:RANGE], y[0:RANGE])\n",
        "        plt.show()\n",
        "        return\n",
        "    elif heng == 1:\n",
        "        plt.barh(x[0:RANGE], y[0:RANGE])\n",
        "        plt.show()\n",
        "        return\n",
        "    else:\n",
        "        return \"Invalid\"\n"
      ],
      "execution_count": null,
      "outputs": []
    },
    {
      "cell_type": "code",
      "metadata": {
        "id": "DQkWWKjvPSVe"
      },
      "source": [
        "def get_accuracy(y_true,y_pred):\n",
        "    return sum(y_true==y_pred)/len(y_true)"
      ],
      "execution_count": null,
      "outputs": []
    },
    {
      "cell_type": "markdown",
      "metadata": {
        "id": "tKk2OHPnFqtV"
      },
      "source": [
        "# Data Preparation"
      ]
    },
    {
      "cell_type": "code",
      "metadata": {
        "id": "NMmcocULPe7w"
      },
      "source": [
        "#import data\n",
        "df = pd.read_csv('NCDB_2014.csv',na_values=['NN','UU','XX','QQ','N','U','X','Q','NNNN','UUUU','XXXX'])"
      ],
      "execution_count": null,
      "outputs": []
    },
    {
      "cell_type": "code",
      "metadata": {
        "id": "ah1ACy5FPf_T",
        "outputId": "7716e9ae-4ecf-4c8f-fd17-76c62ba141cf",
        "colab": {
          "base_uri": "https://localhost:8080/",
          "height": 34
        }
      },
      "source": [
        "df.shape"
      ],
      "execution_count": null,
      "outputs": [
        {
          "output_type": "execute_result",
          "data": {
            "text/plain": [
              "(297612, 22)"
            ]
          },
          "metadata": {
            "tags": []
          },
          "execution_count": 161
        }
      ]
    },
    {
      "cell_type": "code",
      "metadata": {
        "id": "RBa0W6ZasxTk",
        "outputId": "a43d9a20-d198-4729-a47b-a76904aa7a5b",
        "colab": {
          "base_uri": "https://localhost:8080/",
          "height": 408
        }
      },
      "source": [
        "df.isnull().sum()"
      ],
      "execution_count": null,
      "outputs": [
        {
          "output_type": "execute_result",
          "data": {
            "text/plain": [
              "C_YEAR        0\n",
              "C_MNTH       24\n",
              "C_WDAY       24\n",
              "C_HOUR     2042\n",
              "C_SEV         0\n",
              "C_VEHS       26\n",
              "C_CONF    25691\n",
              "C_RCFG    28139\n",
              "C_WTHR     4307\n",
              "C_RSUR    12081\n",
              "C_RALN    17958\n",
              "C_TRAF    19316\n",
              "V_ID          5\n",
              "V_TYPE    15936\n",
              "V_YEAR    29777\n",
              "P_ID        631\n",
              "P_SEX     18921\n",
              "P_AGE     22578\n",
              "P_PSN     10955\n",
              "P_ISEV    20504\n",
              "P_SAFE    63207\n",
              "P_USER    14267\n",
              "dtype: int64"
            ]
          },
          "metadata": {
            "tags": []
          },
          "execution_count": 162
        }
      ]
    },
    {
      "cell_type": "code",
      "metadata": {
        "id": "J0Xk1gOaxhOp",
        "outputId": "03b92b1e-104a-433d-abd6-c58131364843",
        "colab": {
          "base_uri": "https://localhost:8080/",
          "height": 408
        }
      },
      "source": [
        "df.dtypes"
      ],
      "execution_count": null,
      "outputs": [
        {
          "output_type": "execute_result",
          "data": {
            "text/plain": [
              "C_YEAR      int64\n",
              "C_MNTH    float64\n",
              "C_WDAY    float64\n",
              "C_HOUR    float64\n",
              "C_SEV       int64\n",
              "C_VEHS    float64\n",
              "C_CONF    float64\n",
              "C_RCFG    float64\n",
              "C_WTHR    float64\n",
              "C_RSUR    float64\n",
              "C_RALN    float64\n",
              "C_TRAF    float64\n",
              "V_ID      float64\n",
              "V_TYPE    float64\n",
              "V_YEAR    float64\n",
              "P_ID      float64\n",
              "P_SEX      object\n",
              "P_AGE     float64\n",
              "P_PSN     float64\n",
              "P_ISEV    float64\n",
              "P_SAFE    float64\n",
              "P_USER    float64\n",
              "dtype: object"
            ]
          },
          "metadata": {
            "tags": []
          },
          "execution_count": 163
        }
      ]
    },
    {
      "cell_type": "code",
      "metadata": {
        "id": "wBwJkU60PiYu"
      },
      "source": [
        "#Drop NAs\n",
        "df = df.dropna()"
      ],
      "execution_count": null,
      "outputs": []
    },
    {
      "cell_type": "code",
      "metadata": {
        "id": "DVcZJncVPsNR",
        "outputId": "08c67506-6e79-4f0d-a37b-5731b5058b08",
        "colab": {
          "base_uri": "https://localhost:8080/",
          "height": 34
        }
      },
      "source": [
        "df.shape"
      ],
      "execution_count": null,
      "outputs": [
        {
          "output_type": "execute_result",
          "data": {
            "text/plain": [
              "(166317, 22)"
            ]
          },
          "metadata": {
            "tags": []
          },
          "execution_count": 165
        }
      ]
    },
    {
      "cell_type": "code",
      "metadata": {
        "id": "k6OyfQYZPusd"
      },
      "source": [
        "#Drop columns\n",
        "df = df.drop(['C_YEAR','V_ID','P_ID'], axis=1)"
      ],
      "execution_count": null,
      "outputs": []
    },
    {
      "cell_type": "code",
      "metadata": {
        "id": "VDXilPK9P4uA"
      },
      "source": [
        "#change viechle year to viechle age\n",
        "#df[\"V_AGE\"] = df[\"V_YEAR\"].apply(lambda x: 2015-int(x) if x != 'NNNN' else x)\n",
        "df[\"V_AGE\"] = 2015-df[\"V_YEAR\"]\n",
        "df = df.drop(['V_YEAR'], axis=1)"
      ],
      "execution_count": null,
      "outputs": []
    },
    {
      "cell_type": "code",
      "metadata": {
        "id": "HNE5Lu3lP9dN"
      },
      "source": [
        "#change fatality column to 0/1\n",
        "# Define a dictionary for the target mapping\n",
        "target_map = {3:1,1:0,2:0}\n",
        "\n",
        "# Use the pandas apply method to numerically encode our fatality target variable\n",
        "df[\"P_ISEV\"] = df[\"P_ISEV\"].apply(lambda x: target_map[x])\n",
        "\n",
        "# Define a dictionary for the target mapping\n",
        "target_map = {1:1,2:0}\n",
        "\n",
        "# Use the pandas apply method to numerically encode our fatality target variable\n",
        "df[\"C_SEV\"] = df[\"C_SEV\"].apply(lambda x: target_map[x])\n",
        "\n",
        "# Define a dictionary for the target mapping\n",
        "target_map = {'F':0,'M':1}\n",
        "\n",
        "# Use the pandas apply method to numerically encode our fatality target variable\n",
        "df[\"P_SEX\"] = df[\"P_SEX\"].apply(lambda x: target_map[x])\n"
      ],
      "execution_count": null,
      "outputs": []
    },
    {
      "cell_type": "code",
      "metadata": {
        "id": "YGnUmgdlQasv",
        "outputId": "b7892658-cb2d-4d61-c7c1-19b2fc5c25ca",
        "colab": {
          "base_uri": "https://localhost:8080/",
          "height": 34
        }
      },
      "source": [
        "df.shape"
      ],
      "execution_count": null,
      "outputs": [
        {
          "output_type": "execute_result",
          "data": {
            "text/plain": [
              "(166317, 19)"
            ]
          },
          "metadata": {
            "tags": []
          },
          "execution_count": 169
        }
      ]
    },
    {
      "cell_type": "code",
      "metadata": {
        "id": "mzPix20P4o-M",
        "outputId": "fb273f65-737c-4d61-e563-46ba594a540c",
        "colab": {
          "base_uri": "https://localhost:8080/",
          "height": 34
        }
      },
      "source": [
        "len(df[(df['C_SEV']==1)])"
      ],
      "execution_count": null,
      "outputs": [
        {
          "output_type": "execute_result",
          "data": {
            "text/plain": [
              "2261"
            ]
          },
          "metadata": {
            "tags": []
          },
          "execution_count": 170
        }
      ]
    },
    {
      "cell_type": "code",
      "metadata": {
        "id": "rPqA4jYR4mmt"
      },
      "source": [
        "#drop outliners\n",
        "\n",
        "def drop_outlinrs(df,field_name):\n",
        "    iqr = 1.5*(np.percentile(df[field_name],75)-np.percentile(df[field_name],25))\n",
        "    df.drop(df[df[field_name]>(iqr+np.percentile(df[field_name],75))].index,inplace=True)\n",
        "    df.drop(df[df[field_name]<(np.percentile(df[field_name],25)-iqr)].index,inplace=True)\n",
        "\n",
        "continuous = ['P_AGE','V_AGE']\n",
        "for i in continuous:\n",
        "    drop_outlinrs(df,i)"
      ],
      "execution_count": null,
      "outputs": []
    },
    {
      "cell_type": "code",
      "metadata": {
        "id": "a0XYA2SG4s5a",
        "outputId": "c934a5af-770f-41e1-d3c4-61253bcb5a2b",
        "colab": {
          "base_uri": "https://localhost:8080/",
          "height": 34
        }
      },
      "source": [
        "df.shape"
      ],
      "execution_count": null,
      "outputs": [
        {
          "output_type": "execute_result",
          "data": {
            "text/plain": [
              "(163705, 19)"
            ]
          },
          "metadata": {
            "tags": []
          },
          "execution_count": 172
        }
      ]
    },
    {
      "cell_type": "code",
      "metadata": {
        "id": "GM1ze4OM4s5i",
        "outputId": "748548cd-39e9-4773-e9d8-5750372d165e",
        "colab": {
          "base_uri": "https://localhost:8080/",
          "height": 34
        }
      },
      "source": [
        "len(df[(df['C_SEV']==1)])"
      ],
      "execution_count": null,
      "outputs": [
        {
          "output_type": "execute_result",
          "data": {
            "text/plain": [
              "2209"
            ]
          },
          "metadata": {
            "tags": []
          },
          "execution_count": 173
        }
      ]
    },
    {
      "cell_type": "code",
      "metadata": {
        "id": "AnBFeq2tn6Kj",
        "outputId": "369a79d0-ff5c-4353-d804-e1a28b59da81",
        "colab": {
          "base_uri": "https://localhost:8080/",
          "height": 357
        }
      },
      "source": [
        "df.dtypes"
      ],
      "execution_count": null,
      "outputs": [
        {
          "output_type": "execute_result",
          "data": {
            "text/plain": [
              "C_MNTH    float64\n",
              "C_WDAY    float64\n",
              "C_HOUR    float64\n",
              "C_SEV       int64\n",
              "C_VEHS    float64\n",
              "C_CONF    float64\n",
              "C_RCFG    float64\n",
              "C_WTHR    float64\n",
              "C_RSUR    float64\n",
              "C_RALN    float64\n",
              "C_TRAF    float64\n",
              "V_TYPE    float64\n",
              "P_SEX       int64\n",
              "P_AGE     float64\n",
              "P_PSN     float64\n",
              "P_ISEV      int64\n",
              "P_SAFE    float64\n",
              "P_USER    float64\n",
              "V_AGE     float64\n",
              "dtype: object"
            ]
          },
          "metadata": {
            "tags": []
          },
          "execution_count": 174
        }
      ]
    },
    {
      "cell_type": "markdown",
      "metadata": {
        "id": "FM_dNtS6qDW8"
      },
      "source": [
        "# Data Preprocessing"
      ]
    },
    {
      "cell_type": "code",
      "metadata": {
        "id": "thCi260TqIFT"
      },
      "source": [
        "df1 = df.drop('P_ISEV',axis=1).copy()"
      ],
      "execution_count": null,
      "outputs": []
    },
    {
      "cell_type": "code",
      "metadata": {
        "id": "ajHgM5EMqfyI",
        "outputId": "126f0694-3e60-4c28-8ecd-b5017bf3be60",
        "colab": {
          "base_uri": "https://localhost:8080/",
          "height": 439
        }
      },
      "source": [
        "df1"
      ],
      "execution_count": null,
      "outputs": [
        {
          "output_type": "execute_result",
          "data": {
            "text/html": [
              "<div>\n",
              "<style scoped>\n",
              "    .dataframe tbody tr th:only-of-type {\n",
              "        vertical-align: middle;\n",
              "    }\n",
              "\n",
              "    .dataframe tbody tr th {\n",
              "        vertical-align: top;\n",
              "    }\n",
              "\n",
              "    .dataframe thead th {\n",
              "        text-align: right;\n",
              "    }\n",
              "</style>\n",
              "<table border=\"1\" class=\"dataframe\">\n",
              "  <thead>\n",
              "    <tr style=\"text-align: right;\">\n",
              "      <th></th>\n",
              "      <th>C_MNTH</th>\n",
              "      <th>C_WDAY</th>\n",
              "      <th>C_HOUR</th>\n",
              "      <th>C_SEV</th>\n",
              "      <th>C_VEHS</th>\n",
              "      <th>C_CONF</th>\n",
              "      <th>C_RCFG</th>\n",
              "      <th>C_WTHR</th>\n",
              "      <th>C_RSUR</th>\n",
              "      <th>C_RALN</th>\n",
              "      <th>C_TRAF</th>\n",
              "      <th>V_TYPE</th>\n",
              "      <th>P_SEX</th>\n",
              "      <th>P_AGE</th>\n",
              "      <th>P_PSN</th>\n",
              "      <th>P_SAFE</th>\n",
              "      <th>P_USER</th>\n",
              "      <th>V_AGE</th>\n",
              "    </tr>\n",
              "  </thead>\n",
              "  <tbody>\n",
              "    <tr>\n",
              "      <th>29</th>\n",
              "      <td>1.0</td>\n",
              "      <td>1.0</td>\n",
              "      <td>22.0</td>\n",
              "      <td>0</td>\n",
              "      <td>1.0</td>\n",
              "      <td>3.0</td>\n",
              "      <td>3.0</td>\n",
              "      <td>5.0</td>\n",
              "      <td>5.0</td>\n",
              "      <td>5.0</td>\n",
              "      <td>18.0</td>\n",
              "      <td>1.0</td>\n",
              "      <td>1</td>\n",
              "      <td>19.0</td>\n",
              "      <td>11.0</td>\n",
              "      <td>2.0</td>\n",
              "      <td>1.0</td>\n",
              "      <td>7.0</td>\n",
              "    </tr>\n",
              "    <tr>\n",
              "      <th>30</th>\n",
              "      <td>1.0</td>\n",
              "      <td>1.0</td>\n",
              "      <td>19.0</td>\n",
              "      <td>0</td>\n",
              "      <td>2.0</td>\n",
              "      <td>41.0</td>\n",
              "      <td>3.0</td>\n",
              "      <td>1.0</td>\n",
              "      <td>3.0</td>\n",
              "      <td>1.0</td>\n",
              "      <td>18.0</td>\n",
              "      <td>1.0</td>\n",
              "      <td>0</td>\n",
              "      <td>19.0</td>\n",
              "      <td>11.0</td>\n",
              "      <td>2.0</td>\n",
              "      <td>1.0</td>\n",
              "      <td>8.0</td>\n",
              "    </tr>\n",
              "    <tr>\n",
              "      <th>31</th>\n",
              "      <td>1.0</td>\n",
              "      <td>1.0</td>\n",
              "      <td>19.0</td>\n",
              "      <td>0</td>\n",
              "      <td>2.0</td>\n",
              "      <td>41.0</td>\n",
              "      <td>3.0</td>\n",
              "      <td>1.0</td>\n",
              "      <td>3.0</td>\n",
              "      <td>1.0</td>\n",
              "      <td>18.0</td>\n",
              "      <td>1.0</td>\n",
              "      <td>1</td>\n",
              "      <td>22.0</td>\n",
              "      <td>11.0</td>\n",
              "      <td>2.0</td>\n",
              "      <td>1.0</td>\n",
              "      <td>9.0</td>\n",
              "    </tr>\n",
              "    <tr>\n",
              "      <th>32</th>\n",
              "      <td>1.0</td>\n",
              "      <td>1.0</td>\n",
              "      <td>10.0</td>\n",
              "      <td>0</td>\n",
              "      <td>3.0</td>\n",
              "      <td>35.0</td>\n",
              "      <td>2.0</td>\n",
              "      <td>2.0</td>\n",
              "      <td>2.0</td>\n",
              "      <td>1.0</td>\n",
              "      <td>3.0</td>\n",
              "      <td>1.0</td>\n",
              "      <td>1</td>\n",
              "      <td>33.0</td>\n",
              "      <td>11.0</td>\n",
              "      <td>2.0</td>\n",
              "      <td>1.0</td>\n",
              "      <td>1.0</td>\n",
              "    </tr>\n",
              "    <tr>\n",
              "      <th>33</th>\n",
              "      <td>1.0</td>\n",
              "      <td>1.0</td>\n",
              "      <td>10.0</td>\n",
              "      <td>0</td>\n",
              "      <td>3.0</td>\n",
              "      <td>35.0</td>\n",
              "      <td>2.0</td>\n",
              "      <td>2.0</td>\n",
              "      <td>2.0</td>\n",
              "      <td>1.0</td>\n",
              "      <td>3.0</td>\n",
              "      <td>1.0</td>\n",
              "      <td>0</td>\n",
              "      <td>33.0</td>\n",
              "      <td>13.0</td>\n",
              "      <td>2.0</td>\n",
              "      <td>2.0</td>\n",
              "      <td>1.0</td>\n",
              "    </tr>\n",
              "    <tr>\n",
              "      <th>...</th>\n",
              "      <td>...</td>\n",
              "      <td>...</td>\n",
              "      <td>...</td>\n",
              "      <td>...</td>\n",
              "      <td>...</td>\n",
              "      <td>...</td>\n",
              "      <td>...</td>\n",
              "      <td>...</td>\n",
              "      <td>...</td>\n",
              "      <td>...</td>\n",
              "      <td>...</td>\n",
              "      <td>...</td>\n",
              "      <td>...</td>\n",
              "      <td>...</td>\n",
              "      <td>...</td>\n",
              "      <td>...</td>\n",
              "      <td>...</td>\n",
              "      <td>...</td>\n",
              "    </tr>\n",
              "    <tr>\n",
              "      <th>297583</th>\n",
              "      <td>12.0</td>\n",
              "      <td>7.0</td>\n",
              "      <td>14.0</td>\n",
              "      <td>0</td>\n",
              "      <td>2.0</td>\n",
              "      <td>41.0</td>\n",
              "      <td>1.0</td>\n",
              "      <td>1.0</td>\n",
              "      <td>5.0</td>\n",
              "      <td>1.0</td>\n",
              "      <td>18.0</td>\n",
              "      <td>5.0</td>\n",
              "      <td>1</td>\n",
              "      <td>44.0</td>\n",
              "      <td>11.0</td>\n",
              "      <td>2.0</td>\n",
              "      <td>1.0</td>\n",
              "      <td>7.0</td>\n",
              "    </tr>\n",
              "    <tr>\n",
              "      <th>297584</th>\n",
              "      <td>12.0</td>\n",
              "      <td>7.0</td>\n",
              "      <td>14.0</td>\n",
              "      <td>0</td>\n",
              "      <td>2.0</td>\n",
              "      <td>41.0</td>\n",
              "      <td>1.0</td>\n",
              "      <td>1.0</td>\n",
              "      <td>5.0</td>\n",
              "      <td>1.0</td>\n",
              "      <td>18.0</td>\n",
              "      <td>5.0</td>\n",
              "      <td>1</td>\n",
              "      <td>34.0</td>\n",
              "      <td>13.0</td>\n",
              "      <td>2.0</td>\n",
              "      <td>2.0</td>\n",
              "      <td>7.0</td>\n",
              "    </tr>\n",
              "    <tr>\n",
              "      <th>297585</th>\n",
              "      <td>12.0</td>\n",
              "      <td>7.0</td>\n",
              "      <td>19.0</td>\n",
              "      <td>0</td>\n",
              "      <td>1.0</td>\n",
              "      <td>3.0</td>\n",
              "      <td>1.0</td>\n",
              "      <td>1.0</td>\n",
              "      <td>3.0</td>\n",
              "      <td>4.0</td>\n",
              "      <td>18.0</td>\n",
              "      <td>1.0</td>\n",
              "      <td>0</td>\n",
              "      <td>35.0</td>\n",
              "      <td>11.0</td>\n",
              "      <td>2.0</td>\n",
              "      <td>1.0</td>\n",
              "      <td>14.0</td>\n",
              "    </tr>\n",
              "    <tr>\n",
              "      <th>297586</th>\n",
              "      <td>12.0</td>\n",
              "      <td>7.0</td>\n",
              "      <td>19.0</td>\n",
              "      <td>0</td>\n",
              "      <td>1.0</td>\n",
              "      <td>3.0</td>\n",
              "      <td>1.0</td>\n",
              "      <td>1.0</td>\n",
              "      <td>3.0</td>\n",
              "      <td>4.0</td>\n",
              "      <td>18.0</td>\n",
              "      <td>1.0</td>\n",
              "      <td>1</td>\n",
              "      <td>26.0</td>\n",
              "      <td>13.0</td>\n",
              "      <td>2.0</td>\n",
              "      <td>2.0</td>\n",
              "      <td>14.0</td>\n",
              "    </tr>\n",
              "    <tr>\n",
              "      <th>297587</th>\n",
              "      <td>12.0</td>\n",
              "      <td>7.0</td>\n",
              "      <td>19.0</td>\n",
              "      <td>0</td>\n",
              "      <td>1.0</td>\n",
              "      <td>3.0</td>\n",
              "      <td>1.0</td>\n",
              "      <td>1.0</td>\n",
              "      <td>3.0</td>\n",
              "      <td>4.0</td>\n",
              "      <td>18.0</td>\n",
              "      <td>1.0</td>\n",
              "      <td>0</td>\n",
              "      <td>15.0</td>\n",
              "      <td>21.0</td>\n",
              "      <td>2.0</td>\n",
              "      <td>2.0</td>\n",
              "      <td>14.0</td>\n",
              "    </tr>\n",
              "  </tbody>\n",
              "</table>\n",
              "<p>163705 rows × 18 columns</p>\n",
              "</div>"
            ],
            "text/plain": [
              "        C_MNTH  C_WDAY  C_HOUR  C_SEV  ...  P_PSN  P_SAFE  P_USER  V_AGE\n",
              "29         1.0     1.0    22.0      0  ...   11.0     2.0     1.0    7.0\n",
              "30         1.0     1.0    19.0      0  ...   11.0     2.0     1.0    8.0\n",
              "31         1.0     1.0    19.0      0  ...   11.0     2.0     1.0    9.0\n",
              "32         1.0     1.0    10.0      0  ...   11.0     2.0     1.0    1.0\n",
              "33         1.0     1.0    10.0      0  ...   13.0     2.0     2.0    1.0\n",
              "...        ...     ...     ...    ...  ...    ...     ...     ...    ...\n",
              "297583    12.0     7.0    14.0      0  ...   11.0     2.0     1.0    7.0\n",
              "297584    12.0     7.0    14.0      0  ...   13.0     2.0     2.0    7.0\n",
              "297585    12.0     7.0    19.0      0  ...   11.0     2.0     1.0   14.0\n",
              "297586    12.0     7.0    19.0      0  ...   13.0     2.0     2.0   14.0\n",
              "297587    12.0     7.0    19.0      0  ...   21.0     2.0     2.0   14.0\n",
              "\n",
              "[163705 rows x 18 columns]"
            ]
          },
          "metadata": {
            "tags": []
          },
          "execution_count": 176
        }
      ]
    },
    {
      "cell_type": "code",
      "metadata": {
        "id": "6CiQolpPoFb2",
        "outputId": "112285d2-ea20-4928-e3b5-4f5fe9d90738",
        "colab": {
          "base_uri": "https://localhost:8080/",
          "height": 340
        }
      },
      "source": [
        "df1.dtypes"
      ],
      "execution_count": null,
      "outputs": [
        {
          "output_type": "execute_result",
          "data": {
            "text/plain": [
              "C_MNTH    float64\n",
              "C_WDAY    float64\n",
              "C_HOUR    float64\n",
              "C_SEV       int64\n",
              "C_VEHS    float64\n",
              "C_CONF    float64\n",
              "C_RCFG    float64\n",
              "C_WTHR    float64\n",
              "C_RSUR    float64\n",
              "C_RALN    float64\n",
              "C_TRAF    float64\n",
              "V_TYPE    float64\n",
              "P_SEX       int64\n",
              "P_AGE     float64\n",
              "P_PSN     float64\n",
              "P_SAFE    float64\n",
              "P_USER    float64\n",
              "V_AGE     float64\n",
              "dtype: object"
            ]
          },
          "metadata": {
            "tags": []
          },
          "execution_count": 177
        }
      ]
    },
    {
      "cell_type": "code",
      "metadata": {
        "id": "hEkuLLozoIAy",
        "outputId": "d9ccc08f-c7db-40f0-bdb8-9c233997a58c",
        "colab": {
          "base_uri": "https://localhost:8080/",
          "height": 68
        }
      },
      "source": [
        "numerical = ['C_VEHS','V_AGE','P_AGE','C_SEV']\n",
        "categorical = df1.drop(numerical,axis=1).columns\n",
        "categorical"
      ],
      "execution_count": null,
      "outputs": [
        {
          "output_type": "execute_result",
          "data": {
            "text/plain": [
              "Index(['C_MNTH', 'C_WDAY', 'C_HOUR', 'C_CONF', 'C_RCFG', 'C_WTHR', 'C_RSUR',\n",
              "       'C_RALN', 'C_TRAF', 'V_TYPE', 'P_SEX', 'P_PSN', 'P_SAFE', 'P_USER'],\n",
              "      dtype='object')"
            ]
          },
          "metadata": {
            "tags": []
          },
          "execution_count": 178
        }
      ]
    },
    {
      "cell_type": "code",
      "metadata": {
        "id": "Eq4OcX9Vo_wr"
      },
      "source": [
        "#df1[numerical]"
      ],
      "execution_count": null,
      "outputs": []
    },
    {
      "cell_type": "code",
      "metadata": {
        "id": "uwDGUvObqro2"
      },
      "source": [
        "for i in categorical:\n",
        "    df1 = df1.astype({i: 'object'})\n",
        "\n",
        "#create dummy variables for categorical data\n",
        "df1_dis = df1[categorical]\n",
        "df1_dis = pd.get_dummies(df1_dis)\n",
        "\n",
        "#combine categorical and numerical columns\n",
        "df1_total = pd.concat([df1_dis, df1[numerical]], axis=1)"
      ],
      "execution_count": null,
      "outputs": []
    },
    {
      "cell_type": "code",
      "metadata": {
        "id": "7dYeqVUgrA7J",
        "outputId": "a291aa12-8be5-495d-fc3a-2944fa25f930",
        "colab": {
          "base_uri": "https://localhost:8080/",
          "height": 34
        }
      },
      "source": [
        "df1_total.shape"
      ],
      "execution_count": null,
      "outputs": [
        {
          "output_type": "execute_result",
          "data": {
            "text/plain": [
              "(163705, 150)"
            ]
          },
          "metadata": {
            "tags": []
          },
          "execution_count": 181
        }
      ]
    },
    {
      "cell_type": "code",
      "metadata": {
        "id": "8eGDGOappUXr",
        "outputId": "01eeb6e4-1cb8-4030-bbce-1ca7213b5ace",
        "colab": {
          "base_uri": "https://localhost:8080/",
          "height": 439
        }
      },
      "source": [
        "df1_total"
      ],
      "execution_count": null,
      "outputs": [
        {
          "output_type": "execute_result",
          "data": {
            "text/html": [
              "<div>\n",
              "<style scoped>\n",
              "    .dataframe tbody tr th:only-of-type {\n",
              "        vertical-align: middle;\n",
              "    }\n",
              "\n",
              "    .dataframe tbody tr th {\n",
              "        vertical-align: top;\n",
              "    }\n",
              "\n",
              "    .dataframe thead th {\n",
              "        text-align: right;\n",
              "    }\n",
              "</style>\n",
              "<table border=\"1\" class=\"dataframe\">\n",
              "  <thead>\n",
              "    <tr style=\"text-align: right;\">\n",
              "      <th></th>\n",
              "      <th>C_MNTH_1.0</th>\n",
              "      <th>C_MNTH_2.0</th>\n",
              "      <th>C_MNTH_3.0</th>\n",
              "      <th>C_MNTH_4.0</th>\n",
              "      <th>C_MNTH_5.0</th>\n",
              "      <th>C_MNTH_6.0</th>\n",
              "      <th>C_MNTH_7.0</th>\n",
              "      <th>C_MNTH_8.0</th>\n",
              "      <th>C_MNTH_9.0</th>\n",
              "      <th>C_MNTH_10.0</th>\n",
              "      <th>C_MNTH_11.0</th>\n",
              "      <th>C_MNTH_12.0</th>\n",
              "      <th>C_WDAY_1.0</th>\n",
              "      <th>C_WDAY_2.0</th>\n",
              "      <th>C_WDAY_3.0</th>\n",
              "      <th>C_WDAY_4.0</th>\n",
              "      <th>C_WDAY_5.0</th>\n",
              "      <th>C_WDAY_6.0</th>\n",
              "      <th>C_WDAY_7.0</th>\n",
              "      <th>C_HOUR_0.0</th>\n",
              "      <th>C_HOUR_1.0</th>\n",
              "      <th>C_HOUR_2.0</th>\n",
              "      <th>C_HOUR_3.0</th>\n",
              "      <th>C_HOUR_4.0</th>\n",
              "      <th>C_HOUR_5.0</th>\n",
              "      <th>C_HOUR_6.0</th>\n",
              "      <th>C_HOUR_7.0</th>\n",
              "      <th>C_HOUR_8.0</th>\n",
              "      <th>C_HOUR_9.0</th>\n",
              "      <th>C_HOUR_10.0</th>\n",
              "      <th>C_HOUR_11.0</th>\n",
              "      <th>C_HOUR_12.0</th>\n",
              "      <th>C_HOUR_13.0</th>\n",
              "      <th>C_HOUR_14.0</th>\n",
              "      <th>C_HOUR_15.0</th>\n",
              "      <th>C_HOUR_16.0</th>\n",
              "      <th>C_HOUR_17.0</th>\n",
              "      <th>C_HOUR_18.0</th>\n",
              "      <th>C_HOUR_19.0</th>\n",
              "      <th>C_HOUR_20.0</th>\n",
              "      <th>...</th>\n",
              "      <th>V_TYPE_1.0</th>\n",
              "      <th>V_TYPE_5.0</th>\n",
              "      <th>V_TYPE_6.0</th>\n",
              "      <th>V_TYPE_7.0</th>\n",
              "      <th>V_TYPE_8.0</th>\n",
              "      <th>V_TYPE_9.0</th>\n",
              "      <th>V_TYPE_10.0</th>\n",
              "      <th>V_TYPE_11.0</th>\n",
              "      <th>V_TYPE_14.0</th>\n",
              "      <th>V_TYPE_17.0</th>\n",
              "      <th>V_TYPE_18.0</th>\n",
              "      <th>V_TYPE_21.0</th>\n",
              "      <th>V_TYPE_23.0</th>\n",
              "      <th>P_SEX_0</th>\n",
              "      <th>P_SEX_1</th>\n",
              "      <th>P_PSN_11.0</th>\n",
              "      <th>P_PSN_12.0</th>\n",
              "      <th>P_PSN_13.0</th>\n",
              "      <th>P_PSN_21.0</th>\n",
              "      <th>P_PSN_22.0</th>\n",
              "      <th>P_PSN_23.0</th>\n",
              "      <th>P_PSN_31.0</th>\n",
              "      <th>P_PSN_32.0</th>\n",
              "      <th>P_PSN_33.0</th>\n",
              "      <th>P_PSN_96.0</th>\n",
              "      <th>P_PSN_97.0</th>\n",
              "      <th>P_PSN_98.0</th>\n",
              "      <th>P_SAFE_1.0</th>\n",
              "      <th>P_SAFE_2.0</th>\n",
              "      <th>P_SAFE_9.0</th>\n",
              "      <th>P_SAFE_12.0</th>\n",
              "      <th>P_SAFE_13.0</th>\n",
              "      <th>P_USER_1.0</th>\n",
              "      <th>P_USER_2.0</th>\n",
              "      <th>P_USER_4.0</th>\n",
              "      <th>P_USER_5.0</th>\n",
              "      <th>C_VEHS</th>\n",
              "      <th>V_AGE</th>\n",
              "      <th>P_AGE</th>\n",
              "      <th>C_SEV</th>\n",
              "    </tr>\n",
              "  </thead>\n",
              "  <tbody>\n",
              "    <tr>\n",
              "      <th>29</th>\n",
              "      <td>1</td>\n",
              "      <td>0</td>\n",
              "      <td>0</td>\n",
              "      <td>0</td>\n",
              "      <td>0</td>\n",
              "      <td>0</td>\n",
              "      <td>0</td>\n",
              "      <td>0</td>\n",
              "      <td>0</td>\n",
              "      <td>0</td>\n",
              "      <td>0</td>\n",
              "      <td>0</td>\n",
              "      <td>1</td>\n",
              "      <td>0</td>\n",
              "      <td>0</td>\n",
              "      <td>0</td>\n",
              "      <td>0</td>\n",
              "      <td>0</td>\n",
              "      <td>0</td>\n",
              "      <td>0</td>\n",
              "      <td>0</td>\n",
              "      <td>0</td>\n",
              "      <td>0</td>\n",
              "      <td>0</td>\n",
              "      <td>0</td>\n",
              "      <td>0</td>\n",
              "      <td>0</td>\n",
              "      <td>0</td>\n",
              "      <td>0</td>\n",
              "      <td>0</td>\n",
              "      <td>0</td>\n",
              "      <td>0</td>\n",
              "      <td>0</td>\n",
              "      <td>0</td>\n",
              "      <td>0</td>\n",
              "      <td>0</td>\n",
              "      <td>0</td>\n",
              "      <td>0</td>\n",
              "      <td>0</td>\n",
              "      <td>0</td>\n",
              "      <td>...</td>\n",
              "      <td>1</td>\n",
              "      <td>0</td>\n",
              "      <td>0</td>\n",
              "      <td>0</td>\n",
              "      <td>0</td>\n",
              "      <td>0</td>\n",
              "      <td>0</td>\n",
              "      <td>0</td>\n",
              "      <td>0</td>\n",
              "      <td>0</td>\n",
              "      <td>0</td>\n",
              "      <td>0</td>\n",
              "      <td>0</td>\n",
              "      <td>0</td>\n",
              "      <td>1</td>\n",
              "      <td>1</td>\n",
              "      <td>0</td>\n",
              "      <td>0</td>\n",
              "      <td>0</td>\n",
              "      <td>0</td>\n",
              "      <td>0</td>\n",
              "      <td>0</td>\n",
              "      <td>0</td>\n",
              "      <td>0</td>\n",
              "      <td>0</td>\n",
              "      <td>0</td>\n",
              "      <td>0</td>\n",
              "      <td>0</td>\n",
              "      <td>1</td>\n",
              "      <td>0</td>\n",
              "      <td>0</td>\n",
              "      <td>0</td>\n",
              "      <td>1</td>\n",
              "      <td>0</td>\n",
              "      <td>0</td>\n",
              "      <td>0</td>\n",
              "      <td>1.0</td>\n",
              "      <td>7.0</td>\n",
              "      <td>19.0</td>\n",
              "      <td>0</td>\n",
              "    </tr>\n",
              "    <tr>\n",
              "      <th>30</th>\n",
              "      <td>1</td>\n",
              "      <td>0</td>\n",
              "      <td>0</td>\n",
              "      <td>0</td>\n",
              "      <td>0</td>\n",
              "      <td>0</td>\n",
              "      <td>0</td>\n",
              "      <td>0</td>\n",
              "      <td>0</td>\n",
              "      <td>0</td>\n",
              "      <td>0</td>\n",
              "      <td>0</td>\n",
              "      <td>1</td>\n",
              "      <td>0</td>\n",
              "      <td>0</td>\n",
              "      <td>0</td>\n",
              "      <td>0</td>\n",
              "      <td>0</td>\n",
              "      <td>0</td>\n",
              "      <td>0</td>\n",
              "      <td>0</td>\n",
              "      <td>0</td>\n",
              "      <td>0</td>\n",
              "      <td>0</td>\n",
              "      <td>0</td>\n",
              "      <td>0</td>\n",
              "      <td>0</td>\n",
              "      <td>0</td>\n",
              "      <td>0</td>\n",
              "      <td>0</td>\n",
              "      <td>0</td>\n",
              "      <td>0</td>\n",
              "      <td>0</td>\n",
              "      <td>0</td>\n",
              "      <td>0</td>\n",
              "      <td>0</td>\n",
              "      <td>0</td>\n",
              "      <td>0</td>\n",
              "      <td>1</td>\n",
              "      <td>0</td>\n",
              "      <td>...</td>\n",
              "      <td>1</td>\n",
              "      <td>0</td>\n",
              "      <td>0</td>\n",
              "      <td>0</td>\n",
              "      <td>0</td>\n",
              "      <td>0</td>\n",
              "      <td>0</td>\n",
              "      <td>0</td>\n",
              "      <td>0</td>\n",
              "      <td>0</td>\n",
              "      <td>0</td>\n",
              "      <td>0</td>\n",
              "      <td>0</td>\n",
              "      <td>1</td>\n",
              "      <td>0</td>\n",
              "      <td>1</td>\n",
              "      <td>0</td>\n",
              "      <td>0</td>\n",
              "      <td>0</td>\n",
              "      <td>0</td>\n",
              "      <td>0</td>\n",
              "      <td>0</td>\n",
              "      <td>0</td>\n",
              "      <td>0</td>\n",
              "      <td>0</td>\n",
              "      <td>0</td>\n",
              "      <td>0</td>\n",
              "      <td>0</td>\n",
              "      <td>1</td>\n",
              "      <td>0</td>\n",
              "      <td>0</td>\n",
              "      <td>0</td>\n",
              "      <td>1</td>\n",
              "      <td>0</td>\n",
              "      <td>0</td>\n",
              "      <td>0</td>\n",
              "      <td>2.0</td>\n",
              "      <td>8.0</td>\n",
              "      <td>19.0</td>\n",
              "      <td>0</td>\n",
              "    </tr>\n",
              "    <tr>\n",
              "      <th>31</th>\n",
              "      <td>1</td>\n",
              "      <td>0</td>\n",
              "      <td>0</td>\n",
              "      <td>0</td>\n",
              "      <td>0</td>\n",
              "      <td>0</td>\n",
              "      <td>0</td>\n",
              "      <td>0</td>\n",
              "      <td>0</td>\n",
              "      <td>0</td>\n",
              "      <td>0</td>\n",
              "      <td>0</td>\n",
              "      <td>1</td>\n",
              "      <td>0</td>\n",
              "      <td>0</td>\n",
              "      <td>0</td>\n",
              "      <td>0</td>\n",
              "      <td>0</td>\n",
              "      <td>0</td>\n",
              "      <td>0</td>\n",
              "      <td>0</td>\n",
              "      <td>0</td>\n",
              "      <td>0</td>\n",
              "      <td>0</td>\n",
              "      <td>0</td>\n",
              "      <td>0</td>\n",
              "      <td>0</td>\n",
              "      <td>0</td>\n",
              "      <td>0</td>\n",
              "      <td>0</td>\n",
              "      <td>0</td>\n",
              "      <td>0</td>\n",
              "      <td>0</td>\n",
              "      <td>0</td>\n",
              "      <td>0</td>\n",
              "      <td>0</td>\n",
              "      <td>0</td>\n",
              "      <td>0</td>\n",
              "      <td>1</td>\n",
              "      <td>0</td>\n",
              "      <td>...</td>\n",
              "      <td>1</td>\n",
              "      <td>0</td>\n",
              "      <td>0</td>\n",
              "      <td>0</td>\n",
              "      <td>0</td>\n",
              "      <td>0</td>\n",
              "      <td>0</td>\n",
              "      <td>0</td>\n",
              "      <td>0</td>\n",
              "      <td>0</td>\n",
              "      <td>0</td>\n",
              "      <td>0</td>\n",
              "      <td>0</td>\n",
              "      <td>0</td>\n",
              "      <td>1</td>\n",
              "      <td>1</td>\n",
              "      <td>0</td>\n",
              "      <td>0</td>\n",
              "      <td>0</td>\n",
              "      <td>0</td>\n",
              "      <td>0</td>\n",
              "      <td>0</td>\n",
              "      <td>0</td>\n",
              "      <td>0</td>\n",
              "      <td>0</td>\n",
              "      <td>0</td>\n",
              "      <td>0</td>\n",
              "      <td>0</td>\n",
              "      <td>1</td>\n",
              "      <td>0</td>\n",
              "      <td>0</td>\n",
              "      <td>0</td>\n",
              "      <td>1</td>\n",
              "      <td>0</td>\n",
              "      <td>0</td>\n",
              "      <td>0</td>\n",
              "      <td>2.0</td>\n",
              "      <td>9.0</td>\n",
              "      <td>22.0</td>\n",
              "      <td>0</td>\n",
              "    </tr>\n",
              "    <tr>\n",
              "      <th>32</th>\n",
              "      <td>1</td>\n",
              "      <td>0</td>\n",
              "      <td>0</td>\n",
              "      <td>0</td>\n",
              "      <td>0</td>\n",
              "      <td>0</td>\n",
              "      <td>0</td>\n",
              "      <td>0</td>\n",
              "      <td>0</td>\n",
              "      <td>0</td>\n",
              "      <td>0</td>\n",
              "      <td>0</td>\n",
              "      <td>1</td>\n",
              "      <td>0</td>\n",
              "      <td>0</td>\n",
              "      <td>0</td>\n",
              "      <td>0</td>\n",
              "      <td>0</td>\n",
              "      <td>0</td>\n",
              "      <td>0</td>\n",
              "      <td>0</td>\n",
              "      <td>0</td>\n",
              "      <td>0</td>\n",
              "      <td>0</td>\n",
              "      <td>0</td>\n",
              "      <td>0</td>\n",
              "      <td>0</td>\n",
              "      <td>0</td>\n",
              "      <td>0</td>\n",
              "      <td>1</td>\n",
              "      <td>0</td>\n",
              "      <td>0</td>\n",
              "      <td>0</td>\n",
              "      <td>0</td>\n",
              "      <td>0</td>\n",
              "      <td>0</td>\n",
              "      <td>0</td>\n",
              "      <td>0</td>\n",
              "      <td>0</td>\n",
              "      <td>0</td>\n",
              "      <td>...</td>\n",
              "      <td>1</td>\n",
              "      <td>0</td>\n",
              "      <td>0</td>\n",
              "      <td>0</td>\n",
              "      <td>0</td>\n",
              "      <td>0</td>\n",
              "      <td>0</td>\n",
              "      <td>0</td>\n",
              "      <td>0</td>\n",
              "      <td>0</td>\n",
              "      <td>0</td>\n",
              "      <td>0</td>\n",
              "      <td>0</td>\n",
              "      <td>0</td>\n",
              "      <td>1</td>\n",
              "      <td>1</td>\n",
              "      <td>0</td>\n",
              "      <td>0</td>\n",
              "      <td>0</td>\n",
              "      <td>0</td>\n",
              "      <td>0</td>\n",
              "      <td>0</td>\n",
              "      <td>0</td>\n",
              "      <td>0</td>\n",
              "      <td>0</td>\n",
              "      <td>0</td>\n",
              "      <td>0</td>\n",
              "      <td>0</td>\n",
              "      <td>1</td>\n",
              "      <td>0</td>\n",
              "      <td>0</td>\n",
              "      <td>0</td>\n",
              "      <td>1</td>\n",
              "      <td>0</td>\n",
              "      <td>0</td>\n",
              "      <td>0</td>\n",
              "      <td>3.0</td>\n",
              "      <td>1.0</td>\n",
              "      <td>33.0</td>\n",
              "      <td>0</td>\n",
              "    </tr>\n",
              "    <tr>\n",
              "      <th>33</th>\n",
              "      <td>1</td>\n",
              "      <td>0</td>\n",
              "      <td>0</td>\n",
              "      <td>0</td>\n",
              "      <td>0</td>\n",
              "      <td>0</td>\n",
              "      <td>0</td>\n",
              "      <td>0</td>\n",
              "      <td>0</td>\n",
              "      <td>0</td>\n",
              "      <td>0</td>\n",
              "      <td>0</td>\n",
              "      <td>1</td>\n",
              "      <td>0</td>\n",
              "      <td>0</td>\n",
              "      <td>0</td>\n",
              "      <td>0</td>\n",
              "      <td>0</td>\n",
              "      <td>0</td>\n",
              "      <td>0</td>\n",
              "      <td>0</td>\n",
              "      <td>0</td>\n",
              "      <td>0</td>\n",
              "      <td>0</td>\n",
              "      <td>0</td>\n",
              "      <td>0</td>\n",
              "      <td>0</td>\n",
              "      <td>0</td>\n",
              "      <td>0</td>\n",
              "      <td>1</td>\n",
              "      <td>0</td>\n",
              "      <td>0</td>\n",
              "      <td>0</td>\n",
              "      <td>0</td>\n",
              "      <td>0</td>\n",
              "      <td>0</td>\n",
              "      <td>0</td>\n",
              "      <td>0</td>\n",
              "      <td>0</td>\n",
              "      <td>0</td>\n",
              "      <td>...</td>\n",
              "      <td>1</td>\n",
              "      <td>0</td>\n",
              "      <td>0</td>\n",
              "      <td>0</td>\n",
              "      <td>0</td>\n",
              "      <td>0</td>\n",
              "      <td>0</td>\n",
              "      <td>0</td>\n",
              "      <td>0</td>\n",
              "      <td>0</td>\n",
              "      <td>0</td>\n",
              "      <td>0</td>\n",
              "      <td>0</td>\n",
              "      <td>1</td>\n",
              "      <td>0</td>\n",
              "      <td>0</td>\n",
              "      <td>0</td>\n",
              "      <td>1</td>\n",
              "      <td>0</td>\n",
              "      <td>0</td>\n",
              "      <td>0</td>\n",
              "      <td>0</td>\n",
              "      <td>0</td>\n",
              "      <td>0</td>\n",
              "      <td>0</td>\n",
              "      <td>0</td>\n",
              "      <td>0</td>\n",
              "      <td>0</td>\n",
              "      <td>1</td>\n",
              "      <td>0</td>\n",
              "      <td>0</td>\n",
              "      <td>0</td>\n",
              "      <td>0</td>\n",
              "      <td>1</td>\n",
              "      <td>0</td>\n",
              "      <td>0</td>\n",
              "      <td>3.0</td>\n",
              "      <td>1.0</td>\n",
              "      <td>33.0</td>\n",
              "      <td>0</td>\n",
              "    </tr>\n",
              "    <tr>\n",
              "      <th>...</th>\n",
              "      <td>...</td>\n",
              "      <td>...</td>\n",
              "      <td>...</td>\n",
              "      <td>...</td>\n",
              "      <td>...</td>\n",
              "      <td>...</td>\n",
              "      <td>...</td>\n",
              "      <td>...</td>\n",
              "      <td>...</td>\n",
              "      <td>...</td>\n",
              "      <td>...</td>\n",
              "      <td>...</td>\n",
              "      <td>...</td>\n",
              "      <td>...</td>\n",
              "      <td>...</td>\n",
              "      <td>...</td>\n",
              "      <td>...</td>\n",
              "      <td>...</td>\n",
              "      <td>...</td>\n",
              "      <td>...</td>\n",
              "      <td>...</td>\n",
              "      <td>...</td>\n",
              "      <td>...</td>\n",
              "      <td>...</td>\n",
              "      <td>...</td>\n",
              "      <td>...</td>\n",
              "      <td>...</td>\n",
              "      <td>...</td>\n",
              "      <td>...</td>\n",
              "      <td>...</td>\n",
              "      <td>...</td>\n",
              "      <td>...</td>\n",
              "      <td>...</td>\n",
              "      <td>...</td>\n",
              "      <td>...</td>\n",
              "      <td>...</td>\n",
              "      <td>...</td>\n",
              "      <td>...</td>\n",
              "      <td>...</td>\n",
              "      <td>...</td>\n",
              "      <td>...</td>\n",
              "      <td>...</td>\n",
              "      <td>...</td>\n",
              "      <td>...</td>\n",
              "      <td>...</td>\n",
              "      <td>...</td>\n",
              "      <td>...</td>\n",
              "      <td>...</td>\n",
              "      <td>...</td>\n",
              "      <td>...</td>\n",
              "      <td>...</td>\n",
              "      <td>...</td>\n",
              "      <td>...</td>\n",
              "      <td>...</td>\n",
              "      <td>...</td>\n",
              "      <td>...</td>\n",
              "      <td>...</td>\n",
              "      <td>...</td>\n",
              "      <td>...</td>\n",
              "      <td>...</td>\n",
              "      <td>...</td>\n",
              "      <td>...</td>\n",
              "      <td>...</td>\n",
              "      <td>...</td>\n",
              "      <td>...</td>\n",
              "      <td>...</td>\n",
              "      <td>...</td>\n",
              "      <td>...</td>\n",
              "      <td>...</td>\n",
              "      <td>...</td>\n",
              "      <td>...</td>\n",
              "      <td>...</td>\n",
              "      <td>...</td>\n",
              "      <td>...</td>\n",
              "      <td>...</td>\n",
              "      <td>...</td>\n",
              "      <td>...</td>\n",
              "      <td>...</td>\n",
              "      <td>...</td>\n",
              "      <td>...</td>\n",
              "      <td>...</td>\n",
              "    </tr>\n",
              "    <tr>\n",
              "      <th>297583</th>\n",
              "      <td>0</td>\n",
              "      <td>0</td>\n",
              "      <td>0</td>\n",
              "      <td>0</td>\n",
              "      <td>0</td>\n",
              "      <td>0</td>\n",
              "      <td>0</td>\n",
              "      <td>0</td>\n",
              "      <td>0</td>\n",
              "      <td>0</td>\n",
              "      <td>0</td>\n",
              "      <td>1</td>\n",
              "      <td>0</td>\n",
              "      <td>0</td>\n",
              "      <td>0</td>\n",
              "      <td>0</td>\n",
              "      <td>0</td>\n",
              "      <td>0</td>\n",
              "      <td>1</td>\n",
              "      <td>0</td>\n",
              "      <td>0</td>\n",
              "      <td>0</td>\n",
              "      <td>0</td>\n",
              "      <td>0</td>\n",
              "      <td>0</td>\n",
              "      <td>0</td>\n",
              "      <td>0</td>\n",
              "      <td>0</td>\n",
              "      <td>0</td>\n",
              "      <td>0</td>\n",
              "      <td>0</td>\n",
              "      <td>0</td>\n",
              "      <td>0</td>\n",
              "      <td>1</td>\n",
              "      <td>0</td>\n",
              "      <td>0</td>\n",
              "      <td>0</td>\n",
              "      <td>0</td>\n",
              "      <td>0</td>\n",
              "      <td>0</td>\n",
              "      <td>...</td>\n",
              "      <td>0</td>\n",
              "      <td>1</td>\n",
              "      <td>0</td>\n",
              "      <td>0</td>\n",
              "      <td>0</td>\n",
              "      <td>0</td>\n",
              "      <td>0</td>\n",
              "      <td>0</td>\n",
              "      <td>0</td>\n",
              "      <td>0</td>\n",
              "      <td>0</td>\n",
              "      <td>0</td>\n",
              "      <td>0</td>\n",
              "      <td>0</td>\n",
              "      <td>1</td>\n",
              "      <td>1</td>\n",
              "      <td>0</td>\n",
              "      <td>0</td>\n",
              "      <td>0</td>\n",
              "      <td>0</td>\n",
              "      <td>0</td>\n",
              "      <td>0</td>\n",
              "      <td>0</td>\n",
              "      <td>0</td>\n",
              "      <td>0</td>\n",
              "      <td>0</td>\n",
              "      <td>0</td>\n",
              "      <td>0</td>\n",
              "      <td>1</td>\n",
              "      <td>0</td>\n",
              "      <td>0</td>\n",
              "      <td>0</td>\n",
              "      <td>1</td>\n",
              "      <td>0</td>\n",
              "      <td>0</td>\n",
              "      <td>0</td>\n",
              "      <td>2.0</td>\n",
              "      <td>7.0</td>\n",
              "      <td>44.0</td>\n",
              "      <td>0</td>\n",
              "    </tr>\n",
              "    <tr>\n",
              "      <th>297584</th>\n",
              "      <td>0</td>\n",
              "      <td>0</td>\n",
              "      <td>0</td>\n",
              "      <td>0</td>\n",
              "      <td>0</td>\n",
              "      <td>0</td>\n",
              "      <td>0</td>\n",
              "      <td>0</td>\n",
              "      <td>0</td>\n",
              "      <td>0</td>\n",
              "      <td>0</td>\n",
              "      <td>1</td>\n",
              "      <td>0</td>\n",
              "      <td>0</td>\n",
              "      <td>0</td>\n",
              "      <td>0</td>\n",
              "      <td>0</td>\n",
              "      <td>0</td>\n",
              "      <td>1</td>\n",
              "      <td>0</td>\n",
              "      <td>0</td>\n",
              "      <td>0</td>\n",
              "      <td>0</td>\n",
              "      <td>0</td>\n",
              "      <td>0</td>\n",
              "      <td>0</td>\n",
              "      <td>0</td>\n",
              "      <td>0</td>\n",
              "      <td>0</td>\n",
              "      <td>0</td>\n",
              "      <td>0</td>\n",
              "      <td>0</td>\n",
              "      <td>0</td>\n",
              "      <td>1</td>\n",
              "      <td>0</td>\n",
              "      <td>0</td>\n",
              "      <td>0</td>\n",
              "      <td>0</td>\n",
              "      <td>0</td>\n",
              "      <td>0</td>\n",
              "      <td>...</td>\n",
              "      <td>0</td>\n",
              "      <td>1</td>\n",
              "      <td>0</td>\n",
              "      <td>0</td>\n",
              "      <td>0</td>\n",
              "      <td>0</td>\n",
              "      <td>0</td>\n",
              "      <td>0</td>\n",
              "      <td>0</td>\n",
              "      <td>0</td>\n",
              "      <td>0</td>\n",
              "      <td>0</td>\n",
              "      <td>0</td>\n",
              "      <td>0</td>\n",
              "      <td>1</td>\n",
              "      <td>0</td>\n",
              "      <td>0</td>\n",
              "      <td>1</td>\n",
              "      <td>0</td>\n",
              "      <td>0</td>\n",
              "      <td>0</td>\n",
              "      <td>0</td>\n",
              "      <td>0</td>\n",
              "      <td>0</td>\n",
              "      <td>0</td>\n",
              "      <td>0</td>\n",
              "      <td>0</td>\n",
              "      <td>0</td>\n",
              "      <td>1</td>\n",
              "      <td>0</td>\n",
              "      <td>0</td>\n",
              "      <td>0</td>\n",
              "      <td>0</td>\n",
              "      <td>1</td>\n",
              "      <td>0</td>\n",
              "      <td>0</td>\n",
              "      <td>2.0</td>\n",
              "      <td>7.0</td>\n",
              "      <td>34.0</td>\n",
              "      <td>0</td>\n",
              "    </tr>\n",
              "    <tr>\n",
              "      <th>297585</th>\n",
              "      <td>0</td>\n",
              "      <td>0</td>\n",
              "      <td>0</td>\n",
              "      <td>0</td>\n",
              "      <td>0</td>\n",
              "      <td>0</td>\n",
              "      <td>0</td>\n",
              "      <td>0</td>\n",
              "      <td>0</td>\n",
              "      <td>0</td>\n",
              "      <td>0</td>\n",
              "      <td>1</td>\n",
              "      <td>0</td>\n",
              "      <td>0</td>\n",
              "      <td>0</td>\n",
              "      <td>0</td>\n",
              "      <td>0</td>\n",
              "      <td>0</td>\n",
              "      <td>1</td>\n",
              "      <td>0</td>\n",
              "      <td>0</td>\n",
              "      <td>0</td>\n",
              "      <td>0</td>\n",
              "      <td>0</td>\n",
              "      <td>0</td>\n",
              "      <td>0</td>\n",
              "      <td>0</td>\n",
              "      <td>0</td>\n",
              "      <td>0</td>\n",
              "      <td>0</td>\n",
              "      <td>0</td>\n",
              "      <td>0</td>\n",
              "      <td>0</td>\n",
              "      <td>0</td>\n",
              "      <td>0</td>\n",
              "      <td>0</td>\n",
              "      <td>0</td>\n",
              "      <td>0</td>\n",
              "      <td>1</td>\n",
              "      <td>0</td>\n",
              "      <td>...</td>\n",
              "      <td>1</td>\n",
              "      <td>0</td>\n",
              "      <td>0</td>\n",
              "      <td>0</td>\n",
              "      <td>0</td>\n",
              "      <td>0</td>\n",
              "      <td>0</td>\n",
              "      <td>0</td>\n",
              "      <td>0</td>\n",
              "      <td>0</td>\n",
              "      <td>0</td>\n",
              "      <td>0</td>\n",
              "      <td>0</td>\n",
              "      <td>1</td>\n",
              "      <td>0</td>\n",
              "      <td>1</td>\n",
              "      <td>0</td>\n",
              "      <td>0</td>\n",
              "      <td>0</td>\n",
              "      <td>0</td>\n",
              "      <td>0</td>\n",
              "      <td>0</td>\n",
              "      <td>0</td>\n",
              "      <td>0</td>\n",
              "      <td>0</td>\n",
              "      <td>0</td>\n",
              "      <td>0</td>\n",
              "      <td>0</td>\n",
              "      <td>1</td>\n",
              "      <td>0</td>\n",
              "      <td>0</td>\n",
              "      <td>0</td>\n",
              "      <td>1</td>\n",
              "      <td>0</td>\n",
              "      <td>0</td>\n",
              "      <td>0</td>\n",
              "      <td>1.0</td>\n",
              "      <td>14.0</td>\n",
              "      <td>35.0</td>\n",
              "      <td>0</td>\n",
              "    </tr>\n",
              "    <tr>\n",
              "      <th>297586</th>\n",
              "      <td>0</td>\n",
              "      <td>0</td>\n",
              "      <td>0</td>\n",
              "      <td>0</td>\n",
              "      <td>0</td>\n",
              "      <td>0</td>\n",
              "      <td>0</td>\n",
              "      <td>0</td>\n",
              "      <td>0</td>\n",
              "      <td>0</td>\n",
              "      <td>0</td>\n",
              "      <td>1</td>\n",
              "      <td>0</td>\n",
              "      <td>0</td>\n",
              "      <td>0</td>\n",
              "      <td>0</td>\n",
              "      <td>0</td>\n",
              "      <td>0</td>\n",
              "      <td>1</td>\n",
              "      <td>0</td>\n",
              "      <td>0</td>\n",
              "      <td>0</td>\n",
              "      <td>0</td>\n",
              "      <td>0</td>\n",
              "      <td>0</td>\n",
              "      <td>0</td>\n",
              "      <td>0</td>\n",
              "      <td>0</td>\n",
              "      <td>0</td>\n",
              "      <td>0</td>\n",
              "      <td>0</td>\n",
              "      <td>0</td>\n",
              "      <td>0</td>\n",
              "      <td>0</td>\n",
              "      <td>0</td>\n",
              "      <td>0</td>\n",
              "      <td>0</td>\n",
              "      <td>0</td>\n",
              "      <td>1</td>\n",
              "      <td>0</td>\n",
              "      <td>...</td>\n",
              "      <td>1</td>\n",
              "      <td>0</td>\n",
              "      <td>0</td>\n",
              "      <td>0</td>\n",
              "      <td>0</td>\n",
              "      <td>0</td>\n",
              "      <td>0</td>\n",
              "      <td>0</td>\n",
              "      <td>0</td>\n",
              "      <td>0</td>\n",
              "      <td>0</td>\n",
              "      <td>0</td>\n",
              "      <td>0</td>\n",
              "      <td>0</td>\n",
              "      <td>1</td>\n",
              "      <td>0</td>\n",
              "      <td>0</td>\n",
              "      <td>1</td>\n",
              "      <td>0</td>\n",
              "      <td>0</td>\n",
              "      <td>0</td>\n",
              "      <td>0</td>\n",
              "      <td>0</td>\n",
              "      <td>0</td>\n",
              "      <td>0</td>\n",
              "      <td>0</td>\n",
              "      <td>0</td>\n",
              "      <td>0</td>\n",
              "      <td>1</td>\n",
              "      <td>0</td>\n",
              "      <td>0</td>\n",
              "      <td>0</td>\n",
              "      <td>0</td>\n",
              "      <td>1</td>\n",
              "      <td>0</td>\n",
              "      <td>0</td>\n",
              "      <td>1.0</td>\n",
              "      <td>14.0</td>\n",
              "      <td>26.0</td>\n",
              "      <td>0</td>\n",
              "    </tr>\n",
              "    <tr>\n",
              "      <th>297587</th>\n",
              "      <td>0</td>\n",
              "      <td>0</td>\n",
              "      <td>0</td>\n",
              "      <td>0</td>\n",
              "      <td>0</td>\n",
              "      <td>0</td>\n",
              "      <td>0</td>\n",
              "      <td>0</td>\n",
              "      <td>0</td>\n",
              "      <td>0</td>\n",
              "      <td>0</td>\n",
              "      <td>1</td>\n",
              "      <td>0</td>\n",
              "      <td>0</td>\n",
              "      <td>0</td>\n",
              "      <td>0</td>\n",
              "      <td>0</td>\n",
              "      <td>0</td>\n",
              "      <td>1</td>\n",
              "      <td>0</td>\n",
              "      <td>0</td>\n",
              "      <td>0</td>\n",
              "      <td>0</td>\n",
              "      <td>0</td>\n",
              "      <td>0</td>\n",
              "      <td>0</td>\n",
              "      <td>0</td>\n",
              "      <td>0</td>\n",
              "      <td>0</td>\n",
              "      <td>0</td>\n",
              "      <td>0</td>\n",
              "      <td>0</td>\n",
              "      <td>0</td>\n",
              "      <td>0</td>\n",
              "      <td>0</td>\n",
              "      <td>0</td>\n",
              "      <td>0</td>\n",
              "      <td>0</td>\n",
              "      <td>1</td>\n",
              "      <td>0</td>\n",
              "      <td>...</td>\n",
              "      <td>1</td>\n",
              "      <td>0</td>\n",
              "      <td>0</td>\n",
              "      <td>0</td>\n",
              "      <td>0</td>\n",
              "      <td>0</td>\n",
              "      <td>0</td>\n",
              "      <td>0</td>\n",
              "      <td>0</td>\n",
              "      <td>0</td>\n",
              "      <td>0</td>\n",
              "      <td>0</td>\n",
              "      <td>0</td>\n",
              "      <td>1</td>\n",
              "      <td>0</td>\n",
              "      <td>0</td>\n",
              "      <td>0</td>\n",
              "      <td>0</td>\n",
              "      <td>1</td>\n",
              "      <td>0</td>\n",
              "      <td>0</td>\n",
              "      <td>0</td>\n",
              "      <td>0</td>\n",
              "      <td>0</td>\n",
              "      <td>0</td>\n",
              "      <td>0</td>\n",
              "      <td>0</td>\n",
              "      <td>0</td>\n",
              "      <td>1</td>\n",
              "      <td>0</td>\n",
              "      <td>0</td>\n",
              "      <td>0</td>\n",
              "      <td>0</td>\n",
              "      <td>1</td>\n",
              "      <td>0</td>\n",
              "      <td>0</td>\n",
              "      <td>1.0</td>\n",
              "      <td>14.0</td>\n",
              "      <td>15.0</td>\n",
              "      <td>0</td>\n",
              "    </tr>\n",
              "  </tbody>\n",
              "</table>\n",
              "<p>163705 rows × 150 columns</p>\n",
              "</div>"
            ],
            "text/plain": [
              "        C_MNTH_1.0  C_MNTH_2.0  C_MNTH_3.0  ...  V_AGE  P_AGE  C_SEV\n",
              "29               1           0           0  ...    7.0   19.0      0\n",
              "30               1           0           0  ...    8.0   19.0      0\n",
              "31               1           0           0  ...    9.0   22.0      0\n",
              "32               1           0           0  ...    1.0   33.0      0\n",
              "33               1           0           0  ...    1.0   33.0      0\n",
              "...            ...         ...         ...  ...    ...    ...    ...\n",
              "297583           0           0           0  ...    7.0   44.0      0\n",
              "297584           0           0           0  ...    7.0   34.0      0\n",
              "297585           0           0           0  ...   14.0   35.0      0\n",
              "297586           0           0           0  ...   14.0   26.0      0\n",
              "297587           0           0           0  ...   14.0   15.0      0\n",
              "\n",
              "[163705 rows x 150 columns]"
            ]
          },
          "metadata": {
            "tags": []
          },
          "execution_count": 182
        }
      ]
    },
    {
      "cell_type": "code",
      "metadata": {
        "id": "mp9olqN15Z9i"
      },
      "source": [
        "y,x = df1_total[\"C_SEV\"].values,df1_total.loc[:, df1_total.columns.drop(['C_SEV'])].values\n",
        "x_train,x_test,y_train,y_test = train_test_split(x,y,test_size=0.2,random_state=0)\n",
        "\n",
        "enn = EditedNearestNeighbours(random_state=0)\n",
        "smote_x, smote_y = enn.fit_resample(x_train,y_train)\n",
        "\n",
        "under = RandomUnderSampler(sampling_strategy=1,random_state=0)\n",
        "smote_x, smote_y = under.fit_sample(smote_x, smote_y)"
      ],
      "execution_count": null,
      "outputs": []
    },
    {
      "cell_type": "code",
      "metadata": {
        "id": "6Zae5CpZtPe-"
      },
      "source": [
        "df1_total.to_csv('df1_data.csv',index=False)"
      ],
      "execution_count": null,
      "outputs": []
    },
    {
      "cell_type": "markdown",
      "metadata": {
        "id": "4wjMnz3PAIf1"
      },
      "source": [
        "# Logistic Regression"
      ]
    },
    {
      "cell_type": "code",
      "metadata": {
        "id": "DvVo4SRxApsU",
        "outputId": "b1d707e0-d06e-4d9d-fcd1-a28859bcbbaf",
        "colab": {
          "base_uri": "https://localhost:8080/",
          "height": 34
        }
      },
      "source": [
        "len(smote_x)"
      ],
      "execution_count": null,
      "outputs": [
        {
          "output_type": "execute_result",
          "data": {
            "text/plain": [
              "3444"
            ]
          },
          "metadata": {
            "tags": []
          },
          "execution_count": 184
        }
      ]
    },
    {
      "cell_type": "code",
      "metadata": {
        "id": "m3HZ8N6SAsMz",
        "outputId": "8cf11c33-7414-4ca7-a6ad-64dd65c2b36e",
        "colab": {
          "base_uri": "https://localhost:8080/",
          "height": 34
        }
      },
      "source": [
        "len(smote_y[smote_y==1])"
      ],
      "execution_count": null,
      "outputs": [
        {
          "output_type": "execute_result",
          "data": {
            "text/plain": [
              "1722"
            ]
          },
          "metadata": {
            "tags": []
          },
          "execution_count": 185
        }
      ]
    },
    {
      "cell_type": "code",
      "metadata": {
        "id": "1DOWAyTAFqvN",
        "outputId": "7dd35666-71bb-40f8-ba2d-7f388a448a8a",
        "colab": {
          "base_uri": "https://localhost:8080/",
          "height": 34
        }
      },
      "source": [
        "LR1 = LR(random_state=0).fit(x_train, y_train)\n",
        "print(LR1.score(x_train, y_train),LR1.score(x_test,y_test))"
      ],
      "execution_count": null,
      "outputs": [
        {
          "output_type": "stream",
          "text": [
            "0.986782627286888 0.9851562261384808\n"
          ],
          "name": "stdout"
        }
      ]
    },
    {
      "cell_type": "code",
      "metadata": {
        "scrolled": true,
        "id": "2p3_J4MqFqvO",
        "outputId": "1a874488-6ef0-41a4-de78-dc6b082aa565",
        "colab": {
          "base_uri": "https://localhost:8080/",
          "height": 34
        }
      },
      "source": [
        "LR1 = LR(random_state=0).fit(smote_x, smote_y)\n",
        "print(LR1.score(smote_x, smote_y),LR1.score(x_test,y_test))"
      ],
      "execution_count": null,
      "outputs": [
        {
          "output_type": "stream",
          "text": [
            "0.771486643437863 0.7798173543874652\n"
          ],
          "name": "stdout"
        }
      ]
    },
    {
      "cell_type": "code",
      "metadata": {
        "id": "Hx85HhKMFqvQ",
        "outputId": "d8179a1b-8e06-42cf-9383-8800982d9936",
        "colab": {
          "base_uri": "https://localhost:8080/",
          "height": 204
        }
      },
      "source": [
        "LR_predictions = LR1.predict(x_test)\n",
        "print(\"Accuracy score: {}\".format(accuracy_score(y_test, LR_predictions)))\n",
        "print(\"=\"*40)\n",
        "print(classification_report(y_test, LR_predictions))"
      ],
      "execution_count": null,
      "outputs": [
        {
          "output_type": "stream",
          "text": [
            "Accuracy score: 0.7798173543874652\n",
            "========================================\n",
            "              precision    recall  f1-score   support\n",
            "\n",
            "           0       0.99      0.78      0.87     32254\n",
            "           1       0.05      0.72      0.09       487\n",
            "\n",
            "    accuracy                           0.78     32741\n",
            "   macro avg       0.52      0.75      0.48     32741\n",
            "weighted avg       0.98      0.78      0.86     32741\n",
            "\n"
          ],
          "name": "stdout"
        }
      ]
    },
    {
      "cell_type": "code",
      "metadata": {
        "id": "Dn0kjkM0gbz5",
        "outputId": "1ca298ed-c9e1-44f4-b38e-99014be6550a",
        "colab": {
          "base_uri": "https://localhost:8080/",
          "height": 51
        }
      },
      "source": [
        "conf_mat = confusion_matrix(y_test, LR_predictions)\n",
        "print(conf_mat)"
      ],
      "execution_count": null,
      "outputs": [
        {
          "output_type": "stream",
          "text": [
            "[[25179  7075]\n",
            " [  134   353]]\n"
          ],
          "name": "stdout"
        }
      ]
    },
    {
      "cell_type": "code",
      "metadata": {
        "id": "Tfz3uTn6FqvT",
        "outputId": "a7aff8e5-1713-4d58-da7b-cb0a4c370a88",
        "colab": {
          "base_uri": "https://localhost:8080/",
          "height": 350
        }
      },
      "source": [
        "fpr, tpr, threshold = roc_curve(y_test,LR_predictions)\n",
        "roc_auc = auc(fpr, tpr)\n",
        "lw = 2\n",
        "plt.figure(figsize=(8, 5))\n",
        "plt.plot(fpr, tpr, color='darkorange',\n",
        "         lw=lw, label='ROC curve (area = %0.2f)' % roc_auc)\n",
        "plt.plot([0, 1], [0, 1], color='navy', lw=lw, linestyle='--')\n",
        "plt.xlim([0.0, 1.0])\n",
        "plt.ylim([0.0, 1.05])\n",
        "plt.xlabel('False Positive Rate')\n",
        "plt.ylabel('True Positive Rate')\n",
        "plt.title('Receiver operating characteristic example')\n",
        "plt.legend(loc=\"lower right\")\n",
        "plt.show()"
      ],
      "execution_count": null,
      "outputs": [
        {
          "output_type": "display_data",
          "data": {
            "image/png": "[encoded data removed]",
            "text/plain": [
              "<Figure size 576x360 with 1 Axes>"
            ]
          },
          "metadata": {
            "tags": [],
            "needs_background": "light"
          }
        }
      ]
    },
    {
      "cell_type": "code",
      "metadata": {
        "id": "8FAUsYf1AOgu",
        "outputId": "f9ecfff8-6bcb-43c0-b719-98533c689471",
        "colab": {
          "base_uri": "https://localhost:8080/",
          "height": 265
        }
      },
      "source": [
        "x_columns = df1_total.drop(['C_SEV'],axis=1).columns\n",
        "\n",
        "m = {}\n",
        "for i in range(x_columns.shape[0]):\n",
        "    m.setdefault(x_columns[i], 0)\n",
        "    m[x_columns[i]] = abs(LR1.coef_[0,i])\n",
        "\n",
        "sorted(m.items(), key=lambda x: x[1],reverse=False)\n",
        "draw_from_dict(m,15,1)"
      ],
      "execution_count": null,
      "outputs": [
        {
          "output_type": "display_data",
          "data": {
            "image/png": "[encoded data removed]",
            "text/plain": [
              "<Figure size 432x288 with 1 Axes>"
            ]
          },
          "metadata": {
            "tags": [],
            "needs_background": "light"
          }
        }
      ]
    },
    {
      "cell_type": "markdown",
      "metadata": {
        "id": "XvMu_0pyVkLS"
      },
      "source": [
        "### test 1"
      ]
    },
    {
      "cell_type": "markdown",
      "metadata": {
        "id": "q7d6mKBPA8JH"
      },
      "source": [
        "# Decision tree"
      ]
    },
    {
      "cell_type": "code",
      "metadata": {
        "id": "J9wuFDiupiCz",
        "outputId": "5a6c9c46-8ff8-40bb-8a28-7afab05bc40e",
        "colab": {
          "base_uri": "https://localhost:8080/",
          "height": 34
        }
      },
      "source": [
        "len(smote_x)"
      ],
      "execution_count": null,
      "outputs": [
        {
          "output_type": "execute_result",
          "data": {
            "text/plain": [
              "3444"
            ]
          },
          "metadata": {
            "tags": []
          },
          "execution_count": 194
        }
      ]
    },
    {
      "cell_type": "code",
      "metadata": {
        "id": "EUyCOHZ2o9hC"
      },
      "source": [
        "#Model 2: Decision Tree\n",
        "#fit model, max tree\n",
        "clf_dt = DecisionTreeClassifier(random_state=2020)\n",
        "clf_dt = clf_dt.fit(smote_x, smote_y)"
      ],
      "execution_count": null,
      "outputs": []
    },
    {
      "cell_type": "code",
      "metadata": {
        "id": "G6HOvEBNo9hG",
        "outputId": "6c30d5e4-c8e7-42ad-9474-30f66d7345a4",
        "colab": {
          "base_uri": "https://localhost:8080/",
          "height": 312
        }
      },
      "source": [
        "#find ccp_alpha with highest validation accuracy\n",
        "path = clf_dt.cost_complexity_pruning_path(smote_x, smote_y)\n",
        "ccp_alphas, impurities = path.ccp_alphas, path.impurities#ccp=cost complexity pruning\n",
        "ccp_alphas = ccp_alphas[:-1]#omit the maximum value for alpha because it would prune all leaves\n",
        "\n",
        "clf_dts = []\n",
        "alpha_loop_values = []\n",
        "for ccp_alpha in ccp_alphas:\n",
        "    clf_dt = DecisionTreeClassifier(random_state=2020, ccp_alpha=ccp_alpha)\n",
        "    clf_dt.fit(smote_x, smote_y)\n",
        "    clf_dts.append(clf_dt)\n",
        "    for clf_dt in clf_dts:\n",
        "        test_score = clf_dt.score(x_test, y_test) #scores=accuracy\n",
        "    alpha_loop_values.append([ccp_alpha, test_score])\n",
        "\n",
        "train_scores = [clf_dt.score(smote_x, smote_y) for clf_dt in clf_dts]#scores=accuracy\n",
        "test_scores = [clf_dt.score(x_test, y_test) for clf_dt in clf_dts]\n",
        "\n",
        "fig, ax = plt.subplots()\n",
        "ax.set_xlabel(\"alpha\")\n",
        "ax.set_ylabel(\"accuracy\")\n",
        "ax.set_title(\"Accuracy vs alpha for training and testing sets\")\n",
        "ax.plot(ccp_alphas, train_scores, marker='o', label=\"train\", drawstyle=\"steps-post\")\n",
        "ax.plot(ccp_alphas, test_scores, marker='o', label=\"test\", drawstyle=\"steps-post\")\n",
        "ax.legend()\n",
        "plt.show()\n",
        "print('Highest validation accuracy: {:.4f}'.format(max(test_scores)))"
      ],
      "execution_count": null,
      "outputs": [
        {
          "output_type": "display_data",
          "data": {
            "image/png": "[encoded data removed]",
            "text/plain": [
              "<Figure size 432x288 with 1 Axes>"
            ]
          },
          "metadata": {
            "tags": [],
            "needs_background": "light"
          }
        },
        {
          "output_type": "stream",
          "text": [
            "Highest validation accuracy: 0.9579\n"
          ],
          "name": "stdout"
        }
      ]
    },
    {
      "cell_type": "code",
      "metadata": {
        "id": "NLD48gR_o9hK",
        "scrolled": true,
        "outputId": "58789885-6db0-4a0a-a7ec-5d5d1a2db280",
        "colab": {
          "base_uri": "https://localhost:8080/",
          "height": 68
        }
      },
      "source": [
        "train_scores = [clf_dt.score(smote_x, smote_y) for clf_dt in clf_dts]#scores=accuracy\n",
        "test_scores = [clf_dt.score(x_test, y_test) for clf_dt in clf_dts]\n",
        "\n",
        "alpha_results = pd.DataFrame(alpha_loop_values,\n",
        "                             columns=['alpha', 'val_accuracy'])\n",
        "#print(alpha_results)\n",
        "\n",
        "print(max(alpha_results['val_accuracy']))\n",
        "pruned_ccp_alpha=alpha_results[(alpha_results['val_accuracy']==max(alpha_results['val_accuracy']))]['alpha']\n",
        "pruned_ccp_alpha"
      ],
      "execution_count": null,
      "outputs": [
        {
          "output_type": "stream",
          "text": [
            "0.9578510124919826\n"
          ],
          "name": "stdout"
        },
        {
          "output_type": "execute_result",
          "data": {
            "text/plain": [
              "294    0.034955\n",
              "Name: alpha, dtype: float64"
            ]
          },
          "metadata": {
            "tags": []
          },
          "execution_count": 197
        }
      ]
    },
    {
      "cell_type": "code",
      "metadata": {
        "id": "iN8_ODUCo9hP",
        "scrolled": true,
        "outputId": "db01bc0d-2f17-4e10-917c-7196787e4713",
        "colab": {
          "base_uri": "https://localhost:8080/",
          "height": 313
        }
      },
      "source": [
        "#prune the tree\n",
        "pruned_ccp_alpha=float(pruned_ccp_alpha.iloc[0])\n",
        "print(pruned_ccp_alpha)\n",
        "\n",
        "clf_dt_pruned = DecisionTreeClassifier(random_state=2020,\n",
        "                                       ccp_alpha=pruned_ccp_alpha)\n",
        "clf_dt_pruned = clf_dt_pruned.fit(smote_x, smote_y)\n",
        "\n",
        "#use pruned tree model to predict on testset\n",
        "y_pred_pruned = clf_dt_pruned.predict(x_test)\n",
        "\n",
        "#check testset accuracy\n",
        "plot_confusion_matrix(clf_dt_pruned,\n",
        "                      x_test,\n",
        "                      y_test,\n",
        "                      display_labels=[\"No Fatality\", \"Fatality\"],\n",
        "                      cmap='Blues')\n",
        "\n",
        "print(\"Decision Tree TestSet Accuracy: {0:.2f}%\".format(get_accuracy(y_test, y_pred_pruned)*100))"
      ],
      "execution_count": null,
      "outputs": [
        {
          "output_type": "stream",
          "text": [
            "0.0349551533686171\n",
            "Decision Tree TestSet Accuracy: 95.79%\n"
          ],
          "name": "stdout"
        },
        {
          "output_type": "display_data",
          "data": {
            "image/png": "[encoded data removed]",
            "text/plain": [
              "<Figure size 432x288 with 2 Axes>"
            ]
          },
          "metadata": {
            "tags": [],
            "needs_background": "light"
          }
        }
      ]
    },
    {
      "cell_type": "code",
      "metadata": {
        "id": "askpocRgqrx9",
        "outputId": "086db4ad-3081-4fb9-930c-d4a55256b061",
        "colab": {
          "base_uri": "https://localhost:8080/",
          "height": 350
        }
      },
      "source": [
        "fpr, tpr, threshold = roc_curve(y_test,y_pred_pruned)\n",
        "roc_auc = auc(fpr, tpr)\n",
        "lw = 2\n",
        "plt.figure(figsize=(8, 5))\n",
        "plt.plot(fpr, tpr, color='darkorange',\n",
        "         lw=lw, label='ROC curve (area = %0.2f)' % roc_auc)\n",
        "plt.plot([0, 1], [0, 1], color='navy', lw=lw, linestyle='--')\n",
        "plt.xlim([0.0, 1.0])\n",
        "plt.ylim([0.0, 1.05])\n",
        "plt.xlabel('False Positive Rate')\n",
        "plt.ylabel('True Positive Rate')\n",
        "plt.title('Receiver operating characteristic example')\n",
        "plt.legend(loc=\"lower right\")\n",
        "plt.show()"
      ],
      "execution_count": null,
      "outputs": [
        {
          "output_type": "display_data",
          "data": {
            "image/png": "[encoded data removed]",
            "text/plain": [
              "<Figure size 576x360 with 1 Axes>"
            ]
          },
          "metadata": {
            "tags": [],
            "needs_background": "light"
          }
        }
      ]
    },
    {
      "cell_type": "code",
      "metadata": {
        "id": "s45gnR5jq2sO",
        "scrolled": true,
        "outputId": "92650585-5850-42e2-c903-2c44da8f264a",
        "colab": {
          "base_uri": "https://localhost:8080/",
          "height": 265
        }
      },
      "source": [
        "x_columns = df1_total.drop(['C_SEV'],axis=1).columns\n",
        "\n",
        "m = {}\n",
        "for i in range(x_columns.shape[0]):\n",
        "    m.setdefault(x_columns[i], 0)\n",
        "    m[x_columns[i]] = clf_dt_pruned.feature_importances_[i]\n",
        "\n",
        "sorted(m.items(), key=lambda x: x[1], reverse=True)\n",
        "draw_from_dict(m,10,1)"
      ],
      "execution_count": null,
      "outputs": [
        {
          "output_type": "display_data",
          "data": {
            "image/png": "[encoded data removed]",
            "text/plain": [
              "<Figure size 432x288 with 1 Axes>"
            ]
          },
          "metadata": {
            "tags": [],
            "needs_background": "light"
          }
        }
      ]
    },
    {
      "cell_type": "code",
      "metadata": {
        "id": "bRdLRwRrwJt4",
        "outputId": "1999ba8b-f59b-4741-c367-e4f1da854633",
        "colab": {
          "base_uri": "https://localhost:8080/",
          "height": 296
        }
      },
      "source": [
        "#use cross-validation to find ideal_ccp_alpha\n",
        "alpha_loop_values = []\n",
        "for ccp_alpha in ccp_alphas:\n",
        "    clf_dt = DecisionTreeClassifier(random_state=2020, ccp_alpha=ccp_alpha)\n",
        "    scores = cross_val_score(clf_dt, smote_x, smote_y, cv=10)\n",
        "    alpha_loop_values.append([ccp_alpha, np.mean(scores), np.std(scores)])\n",
        "\n",
        "alpha_results = pd.DataFrame(alpha_loop_values,\n",
        "                             columns=['alpha', 'mean_accuracy', 'std'])\n",
        "\n",
        "alpha_results.plot(x='alpha',\n",
        "                   y='mean_accuracy',\n",
        "                   yerr='std',\n",
        "                   marker='o',\n",
        "                   linestyle='--')"
      ],
      "execution_count": null,
      "outputs": [
        {
          "output_type": "execute_result",
          "data": {
            "text/plain": [
              "<matplotlib.axes._subplots.AxesSubplot at 0x7f95b50d9cf8>"
            ]
          },
          "metadata": {
            "tags": []
          },
          "execution_count": 201
        },
        {
          "output_type": "display_data",
          "data": {
            "image/png": "[encoded data removed]",
            "text/plain": [
              "<Figure size 432x288 with 1 Axes>"
            ]
          },
          "metadata": {
            "tags": [],
            "needs_background": "light"
          }
        }
      ]
    },
    {
      "cell_type": "code",
      "metadata": {
        "id": "rCA44DIzwPQ5",
        "outputId": "1118a5a1-23a6-440a-d33d-22185e03e496",
        "colab": {
          "base_uri": "https://localhost:8080/",
          "height": 34
        }
      },
      "source": [
        "max(alpha_results['mean_accuracy'])"
      ],
      "execution_count": null,
      "outputs": [
        {
          "output_type": "execute_result",
          "data": {
            "text/plain": [
              "0.7418747893495112"
            ]
          },
          "metadata": {
            "tags": []
          },
          "execution_count": 202
        }
      ]
    },
    {
      "cell_type": "code",
      "metadata": {
        "id": "3gMuDkRX9Ldc",
        "outputId": "e29bd99a-d341-4ce8-84b2-b475b5ad661c",
        "colab": {
          "base_uri": "https://localhost:8080/",
          "height": 51
        }
      },
      "source": [
        "ideal_ccp_alpha=alpha_results[(alpha_results['mean_accuracy']==max(alpha_results['mean_accuracy']))]['alpha']\n",
        "ideal_ccp_alpha"
      ],
      "execution_count": null,
      "outputs": [
        {
          "output_type": "execute_result",
          "data": {
            "text/plain": [
              "263    0.001014\n",
              "Name: alpha, dtype: float64"
            ]
          },
          "metadata": {
            "tags": []
          },
          "execution_count": 203
        }
      ]
    },
    {
      "cell_type": "code",
      "metadata": {
        "id": "WkjAWU409Lgz",
        "outputId": "d2fe7bea-3978-4e29-a97d-d2041847b7c3",
        "colab": {
          "base_uri": "https://localhost:8080/",
          "height": 34
        }
      },
      "source": [
        "ideal_ccp_alpha=float(ideal_ccp_alpha)\n",
        "ideal_ccp_alpha"
      ],
      "execution_count": null,
      "outputs": [
        {
          "output_type": "execute_result",
          "data": {
            "text/plain": [
              "0.001013620525815646"
            ]
          },
          "metadata": {
            "tags": []
          },
          "execution_count": 204
        }
      ]
    },
    {
      "cell_type": "code",
      "metadata": {
        "id": "uxgX40bdcFMO"
      },
      "source": [
        "#prune the tree with ideal_ccp_alpha\n",
        "clf_dt_pruned = DecisionTreeClassifier(random_state=2020,\n",
        "                                       ccp_alpha=ideal_ccp_alpha)"
      ],
      "execution_count": null,
      "outputs": []
    },
    {
      "cell_type": "code",
      "metadata": {
        "id": "URgWiIVQbm4U",
        "outputId": "2546f9eb-5ad9-4f4c-b436-cdfeb21b5c92",
        "colab": {
          "base_uri": "https://localhost:8080/",
          "height": 313
        }
      },
      "source": [
        "clf_dt_pruned = clf_dt_pruned.fit(smote_x, smote_y)\n",
        "\n",
        "#use model to predict on trainset\n",
        "y_pred_pruned = clf_dt_pruned.predict(smote_x)\n",
        "\n",
        "#check trainset accuracy\n",
        "print(\"Decision Tree TrainSet Accuracy: {0:.2f}%\".format(get_accuracy(smote_y, y_pred_pruned)*100))\n",
        "plot_confusion_matrix(clf_dt_pruned,\n",
        "                      smote_x,\n",
        "                      smote_y,\n",
        "                      display_labels=[\"No\", \"yes\"],\n",
        "                      cmap='Blues')"
      ],
      "execution_count": null,
      "outputs": [
        {
          "output_type": "stream",
          "text": [
            "Decision Tree TrainSet Accuracy: 79.33%\n"
          ],
          "name": "stdout"
        },
        {
          "output_type": "execute_result",
          "data": {
            "text/plain": [
              "<sklearn.metrics._plot.confusion_matrix.ConfusionMatrixDisplay at 0x7f95b51eb128>"
            ]
          },
          "metadata": {
            "tags": []
          },
          "execution_count": 206
        },
        {
          "output_type": "display_data",
          "data": {
            "image/png": "[encoded data removed]",
            "text/plain": [
              "<Figure size 432x288 with 2 Axes>"
            ]
          },
          "metadata": {
            "tags": [],
            "needs_background": "light"
          }
        }
      ]
    },
    {
      "cell_type": "code",
      "metadata": {
        "id": "27Ii0bn7bsRN",
        "outputId": "69c1e2ea-9856-4ea1-b96c-38fab05a132e",
        "colab": {
          "base_uri": "https://localhost:8080/",
          "height": 313
        }
      },
      "source": [
        "#use model to predict on testset\n",
        "y_pred_pruned = clf_dt_pruned.predict(x_test)\n",
        "\n",
        "#check testset accuracy\n",
        "print(\"Decision Tree TestSet Accuracy: {0:.2f}%\".format(get_accuracy(y_test, y_pred_pruned)*100))\n",
        "plot_confusion_matrix(clf_dt_pruned,\n",
        "                      x_test,\n",
        "                      y_test,\n",
        "                      display_labels=[\"No\", \"Yes\"],\n",
        "                      cmap='Blues')"
      ],
      "execution_count": null,
      "outputs": [
        {
          "output_type": "stream",
          "text": [
            "Decision Tree TestSet Accuracy: 74.17%\n"
          ],
          "name": "stdout"
        },
        {
          "output_type": "execute_result",
          "data": {
            "text/plain": [
              "<sklearn.metrics._plot.confusion_matrix.ConfusionMatrixDisplay at 0x7f95b51eb048>"
            ]
          },
          "metadata": {
            "tags": []
          },
          "execution_count": 207
        },
        {
          "output_type": "display_data",
          "data": {
            "image/png": "[encoded data removed]",
            "text/plain": [
              "<Figure size 432x288 with 2 Axes>"
            ]
          },
          "metadata": {
            "tags": [],
            "needs_background": "light"
          }
        }
      ]
    },
    {
      "cell_type": "code",
      "metadata": {
        "id": "1BUEpS3CYp4u",
        "outputId": "9aef2034-129e-4e26-dff3-8826d93995b1",
        "colab": {
          "base_uri": "https://localhost:8080/",
          "height": 204
        }
      },
      "source": [
        "LR_predictions = y_pred_pruned = clf_dt_pruned.predict(x_test)\n",
        "print(\"Accuracy score: {}\".format(accuracy_score(y_test, LR_predictions)))\n",
        "print(\"=\"*40)\n",
        "print(classification_report(y_test, LR_predictions))"
      ],
      "execution_count": null,
      "outputs": [
        {
          "output_type": "stream",
          "text": [
            "Accuracy score: 0.7416694664182524\n",
            "========================================\n",
            "              precision    recall  f1-score   support\n",
            "\n",
            "           0       0.99      0.74      0.85     32254\n",
            "           1       0.04      0.73      0.08       487\n",
            "\n",
            "    accuracy                           0.74     32741\n",
            "   macro avg       0.52      0.73      0.46     32741\n",
            "weighted avg       0.98      0.74      0.84     32741\n",
            "\n"
          ],
          "name": "stdout"
        }
      ]
    },
    {
      "cell_type": "code",
      "metadata": {
        "id": "acGaExlc2Jjz",
        "outputId": "52ecd63a-f09c-4b0f-e769-633664d8fb5a",
        "colab": {
          "base_uri": "https://localhost:8080/",
          "height": 51
        }
      },
      "source": [
        "conf_mat = confusion_matrix(y_test, y_pred_pruned)\n",
        "print(conf_mat)"
      ],
      "execution_count": null,
      "outputs": [
        {
          "output_type": "stream",
          "text": [
            "[[23929  8325]\n",
            " [  133   354]]\n"
          ],
          "name": "stdout"
        }
      ]
    },
    {
      "cell_type": "code",
      "metadata": {
        "id": "HQzYFNBYbsZA",
        "outputId": "d535e804-81e1-4034-bc90-db0d1ab3cc80",
        "colab": {
          "base_uri": "https://localhost:8080/",
          "height": 350
        }
      },
      "source": [
        "fpr, tpr, threshold = roc_curve(y_test,y_pred_pruned)\n",
        "roc_auc = auc(fpr, tpr)\n",
        "lw = 2\n",
        "plt.figure(figsize=(8, 5))\n",
        "plt.plot(fpr, tpr, color='darkorange',\n",
        "         lw=lw, label='ROC curve (area = %0.2f)' % roc_auc)\n",
        "plt.plot([0, 1], [0, 1], color='navy', lw=lw, linestyle='--')\n",
        "plt.xlim([0.0, 1.0])\n",
        "plt.ylim([0.0, 1.05])\n",
        "plt.xlabel('False Positive Rate')\n",
        "plt.ylabel('True Positive Rate')\n",
        "plt.title('Receiver operating characteristic example')\n",
        "plt.legend(loc=\"lower right\")\n",
        "plt.show()"
      ],
      "execution_count": null,
      "outputs": [
        {
          "output_type": "display_data",
          "data": {
            "image/png": "[encoded data removed]",
            "text/plain": [
              "<Figure size 576x360 with 1 Axes>"
            ]
          },
          "metadata": {
            "tags": [],
            "needs_background": "light"
          }
        }
      ]
    },
    {
      "cell_type": "code",
      "metadata": {
        "id": "a8xNuzVfbscG",
        "outputId": "8d03fdee-8445-4a1b-b21a-78aa6ca045b6",
        "colab": {
          "base_uri": "https://localhost:8080/",
          "height": 265
        }
      },
      "source": [
        "x_columns = df1_total.drop(['C_SEV'],axis=1).columns\n",
        "\n",
        "m = {}\n",
        "for i in range(x_columns.shape[0]):\n",
        "    m.setdefault(x_columns[i], 0)\n",
        "    m[x_columns[i]] = clf_dt_pruned.feature_importances_[i]\n",
        "\n",
        "sorted(m.items(), key=lambda x: x[1], reverse=True)\n",
        "draw_from_dict(m,10,1)"
      ],
      "execution_count": null,
      "outputs": [
        {
          "output_type": "display_data",
          "data": {
            "image/png": "[encoded data removed]",
            "text/plain": [
              "<Figure size 432x288 with 1 Axes>"
            ]
          },
          "metadata": {
            "tags": [],
            "needs_background": "light"
          }
        }
      ]
    },
    {
      "cell_type": "markdown",
      "metadata": {
        "id": "hBcv7ayjUIY0"
      },
      "source": [
        "# Random forest"
      ]
    },
    {
      "cell_type": "code",
      "metadata": {
        "id": "JFXgdSueeMh-",
        "outputId": "50321e53-9525-4bd6-a729-5243e73512de",
        "colab": {
          "base_uri": "https://localhost:8080/",
          "height": 34
        }
      },
      "source": [
        "len(smote_x)"
      ],
      "execution_count": null,
      "outputs": [
        {
          "output_type": "execute_result",
          "data": {
            "text/plain": [
              "3444"
            ]
          },
          "metadata": {
            "tags": []
          },
          "execution_count": 211
        }
      ]
    },
    {
      "cell_type": "code",
      "metadata": {
        "id": "BqG2N2m2eN1J",
        "outputId": "b5ddaaac-99a0-449b-953f-7c5e8099b9c5",
        "colab": {
          "base_uri": "https://localhost:8080/",
          "height": 34
        }
      },
      "source": [
        "len(smote_y[smote_y==1])"
      ],
      "execution_count": null,
      "outputs": [
        {
          "output_type": "execute_result",
          "data": {
            "text/plain": [
              "1722"
            ]
          },
          "metadata": {
            "tags": []
          },
          "execution_count": 212
        }
      ]
    },
    {
      "cell_type": "code",
      "metadata": {
        "id": "5e6IeRmGeQUP",
        "outputId": "72dbe874-38be-405d-ce73-abb782e64b44",
        "colab": {
          "base_uri": "https://localhost:8080/",
          "height": 204
        }
      },
      "source": [
        "forest = RandomForestClassifier(n_estimators=100, random_state=0, n_jobs=-1)\n",
        "forest.fit(smote_x, smote_y)\n",
        "forest_predictions = forest.predict(x_test)\n",
        "print(\"Accuracy score: {}\".format(accuracy_score(y_test, forest_predictions)))\n",
        "print(\"=\"*40)\n",
        "print(classification_report(y_test, forest_predictions))"
      ],
      "execution_count": null,
      "outputs": [
        {
          "output_type": "stream",
          "text": [
            "Accuracy score: 0.8004642497174796\n",
            "========================================\n",
            "              precision    recall  f1-score   support\n",
            "\n",
            "           0       1.00      0.80      0.89     32254\n",
            "           1       0.06      0.82      0.11       487\n",
            "\n",
            "    accuracy                           0.80     32741\n",
            "   macro avg       0.53      0.81      0.50     32741\n",
            "weighted avg       0.98      0.80      0.88     32741\n",
            "\n"
          ],
          "name": "stdout"
        }
      ]
    },
    {
      "cell_type": "code",
      "metadata": {
        "id": "5NvcGhtpeUqK",
        "outputId": "82bece1a-15be-4c32-cab8-1aa65da1d4f6",
        "colab": {
          "base_uri": "https://localhost:8080/",
          "height": 51
        }
      },
      "source": [
        "from sklearn.metrics import confusion_matrix\n",
        "\n",
        "conf_mat = confusion_matrix(y_test, forest_predictions)\n",
        "print(conf_mat)"
      ],
      "execution_count": null,
      "outputs": [
        {
          "output_type": "stream",
          "text": [
            "[[25811  6443]\n",
            " [   90   397]]\n"
          ],
          "name": "stdout"
        }
      ]
    },
    {
      "cell_type": "code",
      "metadata": {
        "id": "Pxm0RG84eW9R",
        "outputId": "45fa9d2d-e6a8-4172-97e3-6f75b194ca62",
        "colab": {
          "base_uri": "https://localhost:8080/",
          "height": 350
        }
      },
      "source": [
        "fpr, tpr, threshold = roc_curve(y_test,forest_predictions)\n",
        "roc_auc = auc(fpr, tpr)\n",
        "lw = 2\n",
        "plt.figure(figsize=(8, 5))\n",
        "plt.plot(fpr, tpr, color='darkorange',\n",
        "         lw=lw, label='ROC curve (area = %0.2f)' % roc_auc)\n",
        "plt.plot([0, 1], [0, 1], color='navy', lw=lw, linestyle='--')\n",
        "plt.xlim([0.0, 1.0])\n",
        "plt.ylim([0.0, 1.05])\n",
        "plt.xlabel('False Positive Rate')\n",
        "plt.ylabel('True Positive Rate')\n",
        "plt.title('Receiver operating characteristic example')\n",
        "plt.legend(loc=\"lower right\")\n",
        "plt.show()"
      ],
      "execution_count": null,
      "outputs": [
        {
          "output_type": "display_data",
          "data": {
            "image/png": "[encoded data removed]",
            "text/plain": [
              "<Figure size 576x360 with 1 Axes>"
            ]
          },
          "metadata": {
            "tags": [],
            "needs_background": "light"
          }
        }
      ]
    },
    {
      "cell_type": "code",
      "metadata": {
        "id": "a-2CHp0geYFf",
        "outputId": "725f74ff-10dc-46e4-9b85-4397d8efa745",
        "colab": {
          "base_uri": "https://localhost:8080/",
          "height": 265
        }
      },
      "source": [
        "x_columns = df1_total.drop(['C_SEV'],axis=1).columns\n",
        "\n",
        "m = {}\n",
        "for i in range(x_columns.shape[0]):\n",
        "    m.setdefault(x_columns[i], 0)\n",
        "    m[x_columns[i]] = forest.feature_importances_[i]\n",
        "\n",
        "sorted(m.items(), key=lambda x: x[1], reverse=True)\n",
        "draw_from_dict(m,10,1)"
      ],
      "execution_count": null,
      "outputs": [
        {
          "output_type": "display_data",
          "data": {
            "image/png": "[encoded data removed]",
            "text/plain": [
              "<Figure size 432x288 with 1 Axes>"
            ]
          },
          "metadata": {
            "tags": [],
            "needs_background": "light"
          }
        }
      ]
    },
    {
      "cell_type": "code",
      "metadata": {
        "id": "OgZXvOD-ecs6",
        "outputId": "86637dea-0932-4ebb-fc45-03b8da823396",
        "colab": {
          "base_uri": "https://localhost:8080/",
          "height": 544
        }
      },
      "source": [
        "params = {\"max_depth\": [5, 10, 20, 30, 40, 50, 60, 70, 80, 90, 100, None],\n",
        "          \"max_features\": ['auto', 'sqrt','log2'],\n",
        "          \"min_samples_split\": [2, 5, 10, 15, 20, 30, 40, 50],\n",
        "          \"bootstrap\": [True, False],\n",
        "          \"criterion\": [\"gini\", \"entropy\"],\n",
        "          \"n_estimators\":[100, 150, 200, 250, 300, 400, 500]}\n",
        "\n",
        "forest = RandomForestClassifier(random_state = 0)\n",
        "random_search=RandomizedSearchCV(forest,param_distributions=params,\n",
        "                                 n_iter=5,scoring='accuracy',n_jobs=-1,cv=5,verbose=1,random_state = 0)\n",
        "random_search.fit(smote_x, smote_y)"
      ],
      "execution_count": null,
      "outputs": [
        {
          "output_type": "stream",
          "text": [
            "Fitting 5 folds for each of 5 candidates, totalling 25 fits\n"
          ],
          "name": "stdout"
        },
        {
          "output_type": "stream",
          "text": [
            "[Parallel(n_jobs=-1)]: Using backend LokyBackend with 2 concurrent workers.\n",
            "[Parallel(n_jobs=-1)]: Done  25 out of  25 | elapsed:   23.1s finished\n"
          ],
          "name": "stderr"
        },
        {
          "output_type": "execute_result",
          "data": {
            "text/plain": [
              "RandomizedSearchCV(cv=5, error_score=nan,\n",
              "                   estimator=RandomForestClassifier(bootstrap=True,\n",
              "                                                    ccp_alpha=0.0,\n",
              "                                                    class_weight=None,\n",
              "                                                    criterion='gini',\n",
              "                                                    max_depth=None,\n",
              "                                                    max_features='auto',\n",
              "                                                    max_leaf_nodes=None,\n",
              "                                                    max_samples=None,\n",
              "                                                    min_impurity_decrease=0.0,\n",
              "                                                    min_impurity_split=None,\n",
              "                                                    min_samples_leaf=1,\n",
              "                                                    min_samples_split=2,\n",
              "                                                    min_weight_fraction_leaf=0.0,\n",
              "                                                    n_estimators=100,\n",
              "                                                    n_jobs...\n",
              "                   param_distributions={'bootstrap': [True, False],\n",
              "                                        'criterion': ['gini', 'entropy'],\n",
              "                                        'max_depth': [5, 10, 20, 30, 40, 50, 60,\n",
              "                                                      70, 80, 90, 100, None],\n",
              "                                        'max_features': ['auto', 'sqrt',\n",
              "                                                         'log2'],\n",
              "                                        'min_samples_split': [2, 5, 10, 15, 20,\n",
              "                                                              30, 40, 50],\n",
              "                                        'n_estimators': [100, 150, 200, 250,\n",
              "                                                         300, 400, 500]},\n",
              "                   pre_dispatch='2*n_jobs', random_state=0, refit=True,\n",
              "                   return_train_score=False, scoring='accuracy', verbose=1)"
            ]
          },
          "metadata": {
            "tags": []
          },
          "execution_count": 267
        }
      ]
    },
    {
      "cell_type": "code",
      "metadata": {
        "id": "T1b2DeT-eg6H",
        "outputId": "a2e926a9-215f-43ca-afc5-75468ad9c3bd",
        "colab": {
          "base_uri": "https://localhost:8080/",
          "height": 119
        }
      },
      "source": [
        "random_search.best_params_"
      ],
      "execution_count": null,
      "outputs": [
        {
          "output_type": "execute_result",
          "data": {
            "text/plain": [
              "{'bootstrap': False,\n",
              " 'criterion': 'gini',\n",
              " 'max_depth': 50,\n",
              " 'max_features': 'sqrt',\n",
              " 'min_samples_split': 2,\n",
              " 'n_estimators': 250}"
            ]
          },
          "metadata": {
            "tags": []
          },
          "execution_count": 268
        }
      ]
    },
    {
      "cell_type": "code",
      "metadata": {
        "id": "0c0-EFaieg-_",
        "outputId": "20c76323-c0c4-41bb-8670-29e5c34a210d",
        "colab": {
          "base_uri": "https://localhost:8080/",
          "height": 204
        }
      },
      "source": [
        "forest_final = RandomForestClassifier(**random_search.best_params_,random_state = 0)\n",
        "forest_final.fit(smote_x, smote_y)\n",
        "forest_predictions = forest_final.predict(x_test)\n",
        "print(\"Accuracy score: {}\".format(accuracy_score(y_test, forest_predictions)))\n",
        "print(\"=\"*40)\n",
        "print(classification_report(y_test, forest_predictions))"
      ],
      "execution_count": null,
      "outputs": [
        {
          "output_type": "stream",
          "text": [
            "Accuracy score: 0.8046180629791393\n",
            "========================================\n",
            "              precision    recall  f1-score   support\n",
            "\n",
            "           0       1.00      0.80      0.89     32254\n",
            "           1       0.06      0.83      0.11       487\n",
            "\n",
            "    accuracy                           0.80     32741\n",
            "   macro avg       0.53      0.82      0.50     32741\n",
            "weighted avg       0.98      0.80      0.88     32741\n",
            "\n"
          ],
          "name": "stdout"
        }
      ]
    },
    {
      "cell_type": "code",
      "metadata": {
        "id": "EoHw2aHKehCC",
        "outputId": "b4ecabd0-06ba-4748-bbd0-c58d9842549e",
        "colab": {
          "base_uri": "https://localhost:8080/",
          "height": 51
        }
      },
      "source": [
        "conf_mat = confusion_matrix(y_test, forest_predictions)\n",
        "print(conf_mat)"
      ],
      "execution_count": null,
      "outputs": [
        {
          "output_type": "stream",
          "text": [
            "[[25940  6314]\n",
            " [   83   404]]\n"
          ],
          "name": "stdout"
        }
      ]
    },
    {
      "cell_type": "code",
      "metadata": {
        "id": "6zmYx8M5ehFR",
        "outputId": "671ea6b9-77dc-45d3-a615-6206536af57c",
        "colab": {
          "base_uri": "https://localhost:8080/",
          "height": 350
        }
      },
      "source": [
        "fpr, tpr, threshold = roc_curve(y_test,forest_predictions)\n",
        "roc_auc = auc(fpr, tpr)\n",
        "lw = 2\n",
        "plt.figure(figsize=(8, 5))\n",
        "plt.plot(fpr, tpr, color='darkorange',\n",
        "         lw=lw, label='ROC curve (area = %0.2f)' % roc_auc)\n",
        "plt.plot([0, 1], [0, 1], color='navy', lw=lw, linestyle='--')\n",
        "plt.xlim([0.0, 1.0])\n",
        "plt.ylim([0.0, 1.05])\n",
        "plt.xlabel('False Positive Rate')\n",
        "plt.ylabel('True Positive Rate')\n",
        "plt.title('Receiver operating characteristic example')\n",
        "plt.legend(loc=\"lower right\")\n",
        "plt.show()"
      ],
      "execution_count": null,
      "outputs": [
        {
          "output_type": "display_data",
          "data": {
            "image/png": "[encoded data removed]",
            "text/plain": [
              "<Figure size 576x360 with 1 Axes>"
            ]
          },
          "metadata": {
            "tags": [],
            "needs_background": "light"
          }
        }
      ]
    },
    {
      "cell_type": "code",
      "metadata": {
        "id": "nT7UueeDehIK",
        "outputId": "8154d81c-b9df-4f1b-b3fd-64399401d1c5",
        "colab": {
          "base_uri": "https://localhost:8080/",
          "height": 265
        }
      },
      "source": [
        "x_columns = df1_total.drop(['C_SEV'],axis=1).columns\n",
        "m = {}\n",
        "for i in range(x_columns.shape[0]):\n",
        "    m.setdefault(x_columns[i], 0)\n",
        "    m[x_columns[i]] = forest_final.feature_importances_[i]\n",
        "\n",
        "sorted(m.items(), key=lambda x: x[1], reverse=True)\n",
        "draw_from_dict(m,15,1)"
      ],
      "execution_count": null,
      "outputs": [
        {
          "output_type": "display_data",
          "data": {
            "image/png": "[encoded data removed]",
            "text/plain": [
              "<Figure size 432x288 with 1 Axes>"
            ]
          },
          "metadata": {
            "tags": [],
            "needs_background": "light"
          }
        }
      ]
    },
    {
      "cell_type": "markdown",
      "metadata": {
        "id": "-k0WnRnfVnky"
      },
      "source": [
        "# XGBoost"
      ]
    },
    {
      "cell_type": "markdown",
      "metadata": {
        "id": "oksGTDuiNjD9"
      },
      "source": [
        "### xgb"
      ]
    },
    {
      "cell_type": "code",
      "metadata": {
        "id": "vYlMNogd9Lpx",
        "outputId": "7b188e93-8269-4130-8d06-158865de70da",
        "colab": {
          "base_uri": "https://localhost:8080/",
          "height": 51
        }
      },
      "source": [
        "bst = XGBClassifier(learning_rate =0.1,\n",
        "  n_estimators=100,\n",
        "  max_depth=5,\n",
        "  min_child_weight=1,\n",
        "  gamma=0,\n",
        "  subsample=0.8,\n",
        "  colsample_bytree=0.8,\n",
        "  objective= 'binary:logistic',\n",
        "  nthread=4,\n",
        "  scale_pos_weight=1,\n",
        "  seed=0)\n",
        "\n",
        "bst = bst.fit(smote_x, smote_y)\n",
        "train_preds = bst.predict(smote_x)\n",
        "train_predictions = [round(value) for value in train_preds]\n",
        "train_accuracy = accuracy_score(smote_y,train_predictions)\n",
        "\n",
        "print(\"Train Accuracy:%.2f%%\"%(train_accuracy*100.0))\n",
        "\n",
        "\n",
        "preds = bst.predict(x_test)\n",
        "predictions = [round(value) for value in preds]\n",
        "test_accuracy = accuracy_score(y_test,predictions)\n",
        "\n",
        "print(\"Test Accuracy:%.2f%%\"%(test_accuracy*100.0))"
      ],
      "execution_count": null,
      "outputs": [
        {
          "output_type": "stream",
          "text": [
            "Train Accuracy:85.37%\n",
            "Test Accuracy:79.70%\n"
          ],
          "name": "stdout"
        }
      ]
    },
    {
      "cell_type": "code",
      "metadata": {
        "id": "mvb1YS1ICA4P",
        "outputId": "adb2f6a4-b23e-4c8d-e44d-42ed41c002d2",
        "colab": {
          "base_uri": "https://localhost:8080/",
          "height": 204
        }
      },
      "source": [
        "print(\"Accuracy score: {}\".format(accuracy_score(y_test, predictions)))\n",
        "print(\"=\"*40)\n",
        "print(classification_report(y_test, predictions))"
      ],
      "execution_count": null,
      "outputs": [
        {
          "output_type": "stream",
          "text": [
            "Accuracy score: 0.7969823768363825\n",
            "========================================\n",
            "              precision    recall  f1-score   support\n",
            "\n",
            "           0       1.00      0.80      0.89     32254\n",
            "           1       0.05      0.74      0.10       487\n",
            "\n",
            "    accuracy                           0.80     32741\n",
            "   macro avg       0.52      0.77      0.49     32741\n",
            "weighted avg       0.98      0.80      0.87     32741\n",
            "\n"
          ],
          "name": "stdout"
        }
      ]
    },
    {
      "cell_type": "code",
      "metadata": {
        "id": "8BnKXgL3CA4U",
        "outputId": "ffc66c24-a200-4503-b9e4-1dd283f71e53",
        "colab": {
          "base_uri": "https://localhost:8080/",
          "height": 51
        }
      },
      "source": [
        "conf_mat = confusion_matrix(y_test, predictions)\n",
        "print(conf_mat)"
      ],
      "execution_count": null,
      "outputs": [
        {
          "output_type": "stream",
          "text": [
            "[[25732  6522]\n",
            " [  125   362]]\n"
          ],
          "name": "stdout"
        }
      ]
    },
    {
      "cell_type": "code",
      "metadata": {
        "id": "w9am8m1FCA4W",
        "outputId": "6cdfa250-a70c-4546-eb2f-54ce33961861",
        "colab": {
          "base_uri": "https://localhost:8080/",
          "height": 350
        }
      },
      "source": [
        "fpr, tpr, threshold = roc_curve(y_test,predictions)\n",
        "roc_auc = auc(fpr, tpr)\n",
        "lw = 2\n",
        "plt.figure(figsize=(8, 5))\n",
        "plt.plot(fpr, tpr, color='darkorange',\n",
        "         lw=lw, label='ROC curve (area = %0.2f)' % roc_auc)\n",
        "plt.plot([0, 1], [0, 1], color='navy', lw=lw, linestyle='--')\n",
        "plt.xlim([0.0, 1.0])\n",
        "plt.ylim([0.0, 1.05])\n",
        "plt.xlabel('False Positive Rate')\n",
        "plt.ylabel('True Positive Rate')\n",
        "plt.title('Receiver operating characteristic example')\n",
        "plt.legend(loc=\"lower right\")\n",
        "plt.show()"
      ],
      "execution_count": null,
      "outputs": [
        {
          "output_type": "display_data",
          "data": {
            "image/png": "[encoded data removed]",
            "text/plain": [
              "<Figure size 576x360 with 1 Axes>"
            ]
          },
          "metadata": {
            "tags": [],
            "needs_background": "light"
          }
        }
      ]
    },
    {
      "cell_type": "code",
      "metadata": {
        "id": "26-9XGcnCA4Z",
        "outputId": "80302448-6204-4ba8-912d-c304c17425f6",
        "colab": {
          "base_uri": "https://localhost:8080/",
          "height": 265
        }
      },
      "source": [
        "x_columns = df1_total.drop(['C_SEV'],axis=1).columns\n",
        "\n",
        "m = {}\n",
        "for i in range(x_columns.shape[0]):\n",
        "    m.setdefault(x_columns[i], 0)\n",
        "    m[x_columns[i]] = bst.feature_importances_[i]\n",
        "\n",
        "sorted(m.items(), key=lambda x: x[1], reverse=True)\n",
        "draw_from_dict(m,15,1)"
      ],
      "execution_count": null,
      "outputs": [
        {
          "output_type": "display_data",
          "data": {
            "image/png": "[encoded data removed]",
            "text/plain": [
              "<Figure size 432x288 with 1 Axes>"
            ]
          },
          "metadata": {
            "tags": [],
            "needs_background": "light"
          }
        }
      ]
    },
    {
      "cell_type": "markdown",
      "metadata": {
        "id": "4e6J2UesWI1r"
      },
      "source": [
        "## test 1"
      ]
    },
    {
      "cell_type": "code",
      "metadata": {
        "id": "WKVHoegN9Ls6",
        "outputId": "98cd25a9-9f62-44a4-c071-8afdd74807dd",
        "colab": {
          "base_uri": "https://localhost:8080/",
          "height": 85
        }
      },
      "source": [
        "params_test1 = {'n_estimators': [100,150,200,250,300],\n",
        "                \"max_depth\": [5, 10, 20, 30, None]\n",
        "                }\n",
        "other_params = {'learning_rate': 0.1,\n",
        "                #'max_depth': 10,\n",
        "                'min_child_weight': 1,\n",
        "                'seed': 0,\n",
        "                'subsample': 0.6, 'colsample_bytree': 0.6, 'gamma': 0, 'objective': 'binary:logistic',\n",
        "                'nthread':4,'scale_pos_weight':1,\n",
        "                'reg_alpha': 0, 'reg_lambda': 1}\n",
        "\n",
        "bst = XGBClassifier(**other_params)\n",
        "optimized_XGB= GridSearchCV(estimator=bst, param_grid=params_test1, scoring='accuracy', cv=5, verbose=2, n_jobs=4)\n",
        "optimized_XGB.fit(smote_x, smote_y)\n",
        "evalute_result = optimized_XGB.best_score_"
      ],
      "execution_count": null,
      "outputs": [
        {
          "output_type": "stream",
          "text": [
            "Fitting 5 folds for each of 25 candidates, totalling 125 fits\n"
          ],
          "name": "stdout"
        },
        {
          "output_type": "stream",
          "text": [
            "[Parallel(n_jobs=4)]: Using backend LokyBackend with 4 concurrent workers.\n",
            "[Parallel(n_jobs=4)]: Done  33 tasks      | elapsed:  1.3min\n",
            "[Parallel(n_jobs=4)]: Done 125 out of 125 | elapsed:  8.1min finished\n"
          ],
          "name": "stderr"
        }
      ]
    },
    {
      "cell_type": "code",
      "metadata": {
        "id": "S3jV2FaO9LyZ",
        "outputId": "ffee18f9-870c-46e0-d7df-a9b90bd2c4b2",
        "colab": {
          "base_uri": "https://localhost:8080/",
          "height": 34
        }
      },
      "source": [
        "optimized_XGB.best_params_"
      ],
      "execution_count": null,
      "outputs": [
        {
          "output_type": "execute_result",
          "data": {
            "text/plain": [
              "{'max_depth': 20, 'n_estimators': 100}"
            ]
          },
          "metadata": {
            "tags": []
          },
          "execution_count": 279
        }
      ]
    },
    {
      "cell_type": "code",
      "metadata": {
        "id": "95xMEyUjBxkk",
        "outputId": "51c07221-a571-4637-e1ff-f52a71355ec8",
        "colab": {
          "base_uri": "https://localhost:8080/",
          "height": 51
        }
      },
      "source": [
        "conf_mat = confusion_matrix(y_test, predictions)\n",
        "print(conf_mat)"
      ],
      "execution_count": null,
      "outputs": [
        {
          "output_type": "stream",
          "text": [
            "[[25732  6522]\n",
            " [  125   362]]\n"
          ],
          "name": "stdout"
        }
      ]
    },
    {
      "cell_type": "code",
      "metadata": {
        "id": "KUKONqTa9L2b",
        "outputId": "5115f90f-22fe-41fc-a085-fc3a0eaea8b5",
        "colab": {
          "base_uri": "https://localhost:8080/",
          "height": 204
        }
      },
      "source": [
        "bst_final = XGBClassifier(**optimized_XGB.best_params_)\n",
        "bst_final.fit(smote_x, smote_y)\n",
        "bst_predictions = bst_final.predict(x_test)\n",
        "print(\"Accuracy score: {}\".format(accuracy_score(y_test, bst_predictions)))\n",
        "print(\"=\"*40)\n",
        "print(classification_report(y_test, bst_predictions))"
      ],
      "execution_count": null,
      "outputs": [
        {
          "output_type": "stream",
          "text": [
            "Accuracy score: 0.7956079533306863\n",
            "========================================\n",
            "              precision    recall  f1-score   support\n",
            "\n",
            "           0       1.00      0.80      0.88     32254\n",
            "           1       0.06      0.81      0.11       487\n",
            "\n",
            "    accuracy                           0.80     32741\n",
            "   macro avg       0.53      0.80      0.49     32741\n",
            "weighted avg       0.98      0.80      0.87     32741\n",
            "\n"
          ],
          "name": "stdout"
        }
      ]
    },
    {
      "cell_type": "code",
      "metadata": {
        "id": "HT1cw2tHEOhc",
        "outputId": "d1041fb8-b1f7-4e5c-d3ef-6c5b0899d0ea",
        "colab": {
          "base_uri": "https://localhost:8080/",
          "height": 350
        }
      },
      "source": [
        "fpr, tpr, threshold = roc_curve(y_test,bst_predictions)\n",
        "roc_auc = auc(fpr, tpr)\n",
        "lw = 2\n",
        "plt.figure(figsize=(8, 5))\n",
        "plt.plot(fpr, tpr, color='darkorange',\n",
        "         lw=lw, label='ROC curve (area = %0.2f)' % roc_auc)\n",
        "plt.plot([0, 1], [0, 1], color='navy', lw=lw, linestyle='--')\n",
        "plt.xlim([0.0, 1.0])\n",
        "plt.ylim([0.0, 1.05])\n",
        "plt.xlabel('False Positive Rate')\n",
        "plt.ylabel('True Positive Rate')\n",
        "plt.title('Receiver operating characteristic example')\n",
        "plt.legend(loc=\"lower right\")\n",
        "plt.show()"
      ],
      "execution_count": null,
      "outputs": [
        {
          "output_type": "display_data",
          "data": {
            "image/png": "[encoded data removed]",
            "text/plain": [
              "<Figure size 576x360 with 1 Axes>"
            ]
          },
          "metadata": {
            "tags": [],
            "needs_background": "light"
          }
        }
      ]
    },
    {
      "cell_type": "code",
      "metadata": {
        "id": "UgKukoGjEnud",
        "outputId": "f2c0ab05-17ac-43b7-cd1e-6bfd7636dcb7",
        "colab": {
          "base_uri": "https://localhost:8080/",
          "height": 265
        }
      },
      "source": [
        "x_columns = df1_total.drop(['C_SEV'],axis=1).columns\n",
        "\n",
        "m = {}\n",
        "for i in range(x_columns.shape[0]):\n",
        "    m.setdefault(x_columns[i], 0)\n",
        "    m[x_columns[i]] = bst_final.feature_importances_[i]\n",
        "\n",
        "sorted(m.items(), key=lambda x: x[1], reverse=True)\n",
        "draw_from_dict(m,15,1)"
      ],
      "execution_count": null,
      "outputs": [
        {
          "output_type": "display_data",
          "data": {
            "image/png": "[encoded data removed]",
            "text/plain": [
              "<Figure size 432x288 with 1 Axes>"
            ]
          },
          "metadata": {
            "tags": [],
            "needs_background": "light"
          }
        }
      ]
    },
    {
      "cell_type": "code",
      "metadata": {
        "id": "e2PGGMSUePxW",
        "outputId": "062844ec-c022-4e71-8e7c-e4710466e8c2",
        "colab": {
          "base_uri": "https://localhost:8080/",
          "height": 51
        }
      },
      "source": [
        "bst_predictions = bst_final.predict(smote_x)\n",
        "print(\"Accuracy score: {}\".format(accuracy_score(smote_y, bst_predictions)))\n",
        "print(\"=\"*40)"
      ],
      "execution_count": null,
      "outputs": [
        {
          "output_type": "stream",
          "text": [
            "Accuracy score: 1.0\n",
            "========================================\n"
          ],
          "name": "stdout"
        }
      ]
    },
    {
      "cell_type": "markdown",
      "metadata": {
        "id": "Wuer8jUyRi6g"
      },
      "source": [
        "## test 2"
      ]
    },
    {
      "cell_type": "code",
      "metadata": {
        "id": "PZ7-jDBwRi6j"
      },
      "source": [],
      "execution_count": null,
      "outputs": []
    },
    {
      "cell_type": "code",
      "metadata": {
        "id": "nVrnt05ZRi6n",
        "outputId": "3222b346-bb1d-414a-a252-76a0f5d2e419",
        "colab": {
          "base_uri": "https://localhost:8080/",
          "height": 68
        }
      },
      "source": [
        "params_test1 = {'max_depth': [5,10,15,20]}\n",
        "other_params = {'n_estimators': 200, 'learning_rate': 0.1, 'min_child_weight': 1, 'seed': 0,\n",
        "                    'subsample': 0.8, 'colsample_bytree': 0.8, 'gamma': 0, 'reg_alpha': 0, 'reg_lambda': 1}\n",
        "\n",
        "bst = XGBClassifier(**other_params)\n",
        "optimized_XGB= GridSearchCV(estimator=bst, param_grid=params_test1, scoring='roc_auc', cv=5, verbose=1, n_jobs=4)\n",
        "optimized_XGB.fit(smote_x, smote_y)\n",
        "evalute_result = optimized_XGB.best_score_"
      ],
      "execution_count": null,
      "outputs": [
        {
          "output_type": "stream",
          "text": [
            "Fitting 5 folds for each of 4 candidates, totalling 20 fits\n"
          ],
          "name": "stdout"
        },
        {
          "output_type": "stream",
          "text": [
            "[Parallel(n_jobs=4)]: Using backend LokyBackend with 4 concurrent workers.\n",
            "[Parallel(n_jobs=4)]: Done  20 out of  20 | elapsed:  1.7min finished\n"
          ],
          "name": "stderr"
        }
      ]
    },
    {
      "cell_type": "code",
      "metadata": {
        "id": "eDCrXHfLRi6t",
        "outputId": "683b4377-6dee-48d0-8e16-493b25c3a82a",
        "colab": {
          "base_uri": "https://localhost:8080/",
          "height": 34
        }
      },
      "source": [
        "optimized_XGB.best_params_"
      ],
      "execution_count": null,
      "outputs": [
        {
          "output_type": "execute_result",
          "data": {
            "text/plain": [
              "{'max_depth': 10}"
            ]
          },
          "metadata": {
            "tags": []
          },
          "execution_count": 273
        }
      ]
    },
    {
      "cell_type": "code",
      "metadata": {
        "id": "ZyA0KTYCRi6y",
        "outputId": "7ca7e5ad-a8f8-459f-9970-0a86462fa49b",
        "colab": {
          "base_uri": "https://localhost:8080/",
          "height": 51
        }
      },
      "source": [
        "conf_mat = confusion_matrix(y_test, predictions)\n",
        "print(conf_mat)"
      ],
      "execution_count": null,
      "outputs": [
        {
          "output_type": "stream",
          "text": [
            "[[25732  6522]\n",
            " [  125   362]]\n"
          ],
          "name": "stdout"
        }
      ]
    },
    {
      "cell_type": "code",
      "metadata": {
        "id": "kUXX3N8dRi60",
        "outputId": "29dfca9c-9cc4-4072-93e3-aaca55e6270d",
        "colab": {
          "base_uri": "https://localhost:8080/",
          "height": 204
        }
      },
      "source": [
        "bst_final = XGBClassifier(**optimized_XGB.best_params_)\n",
        "bst_final.fit(smote_x, smote_y)\n",
        "bst_predictions = bst_final.predict(x_test)\n",
        "print(\"Accuracy score: {}\".format(accuracy_score(y_test, bst_predictions)))\n",
        "print(\"=\"*40)\n",
        "print(classification_report(y_test, bst_predictions))"
      ],
      "execution_count": null,
      "outputs": [
        {
          "output_type": "stream",
          "text": [
            "Accuracy score: 0.7920344522158761\n",
            "========================================\n",
            "              precision    recall  f1-score   support\n",
            "\n",
            "           0       1.00      0.79      0.88     32254\n",
            "           1       0.05      0.80      0.10       487\n",
            "\n",
            "    accuracy                           0.79     32741\n",
            "   macro avg       0.53      0.80      0.49     32741\n",
            "weighted avg       0.98      0.79      0.87     32741\n",
            "\n"
          ],
          "name": "stdout"
        }
      ]
    },
    {
      "cell_type": "code",
      "metadata": {
        "id": "ORMx6gTORi62",
        "outputId": "3d194b3c-1f86-4f00-8a05-32e12039b031",
        "colab": {
          "base_uri": "https://localhost:8080/",
          "height": 350
        }
      },
      "source": [
        "fpr, tpr, threshold = roc_curve(y_test,bst_predictions)\n",
        "roc_auc = auc(fpr, tpr)\n",
        "lw = 2\n",
        "plt.figure(figsize=(8, 5))\n",
        "plt.plot(fpr, tpr, color='darkorange',\n",
        "         lw=lw, label='ROC curve (area = %0.2f)' % roc_auc)\n",
        "plt.plot([0, 1], [0, 1], color='navy', lw=lw, linestyle='--')\n",
        "plt.xlim([0.0, 1.0])\n",
        "plt.ylim([0.0, 1.05])\n",
        "plt.xlabel('False Positive Rate')\n",
        "plt.ylabel('True Positive Rate')\n",
        "plt.title('Receiver operating characteristic example')\n",
        "plt.legend(loc=\"lower right\")\n",
        "plt.show()"
      ],
      "execution_count": null,
      "outputs": [
        {
          "output_type": "display_data",
          "data": {
            "image/png": "[encoded data removed]",
            "text/plain": [
              "<Figure size 576x360 with 1 Axes>"
            ]
          },
          "metadata": {
            "tags": [],
            "needs_background": "light"
          }
        }
      ]
    },
    {
      "cell_type": "code",
      "metadata": {
        "id": "jgRyKHq6Ri65",
        "outputId": "b5482807-fdfc-44e1-de7d-573c34f16f9f",
        "colab": {
          "base_uri": "https://localhost:8080/",
          "height": 265
        }
      },
      "source": [
        "x_columns = df1_total.drop(['C_SEV'],axis=1).columns\n",
        "\n",
        "m = {}\n",
        "for i in range(x_columns.shape[0]):\n",
        "    m.setdefault(x_columns[i], 0)\n",
        "    m[x_columns[i]] = bst_final.feature_importances_[i]\n",
        "\n",
        "sorted(m.items(), key=lambda x: x[1], reverse=True)\n",
        "draw_from_dict(m,15,1)"
      ],
      "execution_count": null,
      "outputs": [
        {
          "output_type": "display_data",
          "data": {
            "image/png": "[encoded data removed]",
            "text/plain": [
              "<Figure size 432x288 with 1 Axes>"
            ]
          },
          "metadata": {
            "tags": [],
            "needs_background": "light"
          }
        }
      ]
    }
  ]
}